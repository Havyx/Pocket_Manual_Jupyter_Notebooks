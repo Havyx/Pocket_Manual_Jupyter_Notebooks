{
 "cells": [
  {
   "cell_type": "code",
   "execution_count": null,
   "metadata": {},
   "outputs": [],
   "source": [
    "import pandas as pd\n",
    "import numpy as np\n",
    "avaliacao = pd.read_csv('dados/tabelas_originais/aval_financ.csv', sep=\"►\", engine='python', encoding='utf-8')\n",
    "produtor = pd.read_csv('dados/tabelas_originais/classif_prod_crm.csv', sep=\"►\", engine='python', encoding='utf-8')\n",
    "movimento = pd.read_csv('dados/tabelas_originais/it_mks_loc_producao.csv', sep=\"►\", engine='python', encoding='utf-8')\n",
    "avaliacao.estrutura.head(10)"
   ]
  },
  {
   "cell_type": "markdown",
   "metadata": {},
   "source": [
    "### ``` Aplicação de lambda na coluna log_ativo retornando 1 ou 0 caso x igual a True ```"
   ]
  },
  {
   "cell_type": "code",
   "execution_count": null,
   "metadata": {},
   "outputs": [],
   "source": [
    "avaliacao['log_ativo'] = avaliacao.log_ativo.apply(lambda x: int(x == True))"
   ]
  },
  {
   "cell_type": "markdown",
   "metadata": {},
   "source": [
    "###  ```  Funcao que transforma o Campo True em inteiro 1 passando as colunas a serem tratadas ```"
   ]
  },
  {
   "cell_type": "code",
   "execution_count": null,
   "metadata": {},
   "outputs": [],
   "source": [
    "categoricas = ['Bloqueado', 'log_emite_receita', 'ind-cheque','ind-protesto', 'ind-forum', 'ind-safras-ant', 'ativo_retencao_inss', 'empregador_rural', 'log_crm']\n",
    "\n",
    "def trataBols(df, cat):\n",
    "    for item in cat:\n",
    "        df[item] =  df[item].apply(lambda x: int(x == True))\n",
    "    return df\n",
    "    \n",
    "    \n",
    "df_tratado = trataBols(df_avaliacao, categoricas)\n",
    "df_tratado.head().T"
   ]
  },
  {
   "cell_type": "markdown",
   "metadata": {},
   "source": [
    "### ``` Dropando colunas desnecessarias ```"
   ]
  },
  {
   "cell_type": "code",
   "execution_count": null,
   "metadata": {},
   "outputs": [],
   "source": [
    "df_tratado.drop(['Unnamed: 0', 'cdn_repres', 'ind-referencia'], axis =1 , inplace=True)"
   ]
  },
  {
   "cell_type": "markdown",
   "metadata": {},
   "source": [
    "### ``` Aplicação de lambda para retornar 1 caso string Ativo ou 0 caso inativo. ```"
   ]
  },
  {
   "cell_type": "code",
   "execution_count": null,
   "metadata": {},
   "outputs": [],
   "source": [
    "df_tratado.situacao = df_tratado.situacao.apply(lambda x: 1 if x == 'Ativo' else 0)"
   ]
  },
  {
   "cell_type": "markdown",
   "metadata": {},
   "source": [
    "### ``` Aplicação de lambda para transformar todos os campos em maiusculas ```"
   ]
  },
  {
   "cell_type": "code",
   "execution_count": null,
   "metadata": {},
   "outputs": [],
   "source": [
    "df_tratado.estrutura = df_tratado.estrutura.apply(lambda x: x.upper())"
   ]
  },
  {
   "cell_type": "markdown",
   "metadata": {},
   "source": [
    "### ``` Cria colunas com as variaveis categoricas e as concatena ao Dataframe pelo axis 1 de Colunas ```"
   ]
  },
  {
   "cell_type": "code",
   "execution_count": null,
   "metadata": {},
   "outputs": [],
   "source": [
    "df_tratado = pd.concat([df_tratado, pd.get_dummies(df_tratado.estrutura, prefix='est_')], axis=1)"
   ]
  },
  {
   "cell_type": "code",
   "execution_count": null,
   "metadata": {},
   "outputs": [],
   "source": [
    "df_tratado = pd.concat([df_tratado, pd.get_dummies(df_tratado.tipo_produtor)], axis=1)"
   ]
  },
  {
   "cell_type": "markdown",
   "metadata": {},
   "source": [
    "### ``` Concatenação simples ```"
   ]
  },
  {
   "cell_type": "code",
   "execution_count": null,
   "metadata": {},
   "outputs": [],
   "source": [
    "df_tratado = pd.concat([df_tratado, avaliacao['nome-abrev']], axis=1)\n",
    "df_tratado.head().T"
   ]
  },
  {
   "cell_type": "markdown",
   "metadata": {},
   "source": [
    "### ``` Exporta como csv ```"
   ]
  },
  {
   "cell_type": "code",
   "execution_count": null,
   "metadata": {},
   "outputs": [],
   "source": [
    "df_tratado.to_csv('dados/avaliacao.csv', index=False)\n",
    "df_tratado.head()"
   ]
  },
  {
   "cell_type": "markdown",
   "metadata": {},
   "source": [
    "### ``` Converte em String uma coluna ```"
   ]
  },
  {
   "cell_type": "code",
   "execution_count": null,
   "metadata": {},
   "outputs": [],
   "source": [
    "produtor.cod_produtor = produtor.cod_produtor.astype(str)"
   ]
  },
  {
   "cell_type": "markdown",
   "metadata": {},
   "source": [
    "### ``` Aplica lambda para substituir '.' por ',' na coluna selecionada ```"
   ]
  },
  {
   "cell_type": "code",
   "execution_count": null,
   "metadata": {},
   "outputs": [],
   "source": [
    "produtor.cod_produtor = produtor.cod_produtor.apply(lambda x: x.replace('.', ','))"
   ]
  },
  {
   "cell_type": "markdown",
   "metadata": {},
   "source": [
    "### ``` Arredonda os valores da coluna ```"
   ]
  },
  {
   "cell_type": "code",
   "execution_count": null,
   "metadata": {},
   "outputs": [],
   "source": [
    "produtor.cod_produtor = produtor.cod_produtor.round()"
   ]
  },
  {
   "cell_type": "markdown",
   "metadata": {},
   "source": [
    "### ``` Organiza o Dataframe por sort_values ```"
   ]
  },
  {
   "cell_type": "code",
   "execution_count": null,
   "metadata": {},
   "outputs": [],
   "source": [
    "produtor.sort_values(by='cod_produtor')"
   ]
  },
  {
   "cell_type": "markdown",
   "metadata": {},
   "source": [
    "### ``` Função para substituir valores em colunas do DataFrame ```"
   ]
  },
  {
   "cell_type": "code",
   "execution_count": null,
   "metadata": {},
   "outputs": [],
   "source": [
    "cols = ['vlr_realizado_fat', 'vlr_potencial_rec', 'vlr_potencial_fat', 'vlr_realizado_rec', 'perc_faturamento', 'perc_recebimento', 'area_cult_prop', 'area_cult_tot', 'vlr_realizado_geral_rec', 'vlr_potencial_geral_rec', 'perc_geral']\n",
    "def removedots(df , cols):\n",
    "    for col in cols:\n",
    "        df[col] = df[col].apply(lambda x: x.replace('.', ''))\n",
    "        df[col] = df[col].apply(lambda x: x.replace(',', '.'))\n",
    "        df[col] = df[col].astype(float)\n",
    "    return df\n",
    "df_tratado = removedots(produtor, cols)"
   ]
  },
  {
   "cell_type": "code",
   "execution_count": null,
   "metadata": {},
   "outputs": [],
   "source": [
    "def altera(dado):\n",
    "    if dado == '2013/2013':\n",
    "        return 1\n",
    "    if dado == '2013/2014':\n",
    "        return 2\n",
    "    if dado == '2014/2014':\n",
    "        return 3\n",
    "    if dado == '2014/2015':\n",
    "        return 4\n",
    "    if dado == '2015/2015':\n",
    "        return 5\n",
    "    if dado == '2015/2016':\n",
    "        return 6\n",
    "    if dado == '2016/2016':\n",
    "        return 7\n",
    "    if dado == '2016/2017':\n",
    "        return 8\n",
    "    if dado == '2017/2017':\n",
    "        return 9\n",
    "    if dado == '2017/2018':\n",
    "        return 10\n",
    "    if dado == '2018/2018':\n",
    "        return 11\n",
    "    if dado == '2018/2019':\n",
    "        return 12\n",
    "    if dado == '2019/2019':\n",
    "        return 13\n",
    "    if dado == '2019/2020':\n",
    "        return 14\n",
    "    if dado == '2020/2020':\n",
    "        return 15\n",
    "    if dado == '2020/2021':\n",
    "        return 16\n",
    "    if dado == '2021/2021':\n",
    "        return 17"
   ]
  },
  {
   "cell_type": "markdown",
   "metadata": {},
   "source": [
    "### ``` Aplica lambda em cada item da coluna safra, chama funcao que retorna valor respectivo  ```"
   ]
  },
  {
   "cell_type": "code",
   "execution_count": null,
   "metadata": {},
   "outputs": [],
   "source": [
    "df_tratado['indice_safra'] = df_tratado.safra.apply(lambda x: altera(x))"
   ]
  },
  {
   "cell_type": "markdown",
   "metadata": {},
   "source": [
    "### ``` Uso de LOC para filtro ```"
   ]
  },
  {
   "cell_type": "code",
   "execution_count": null,
   "metadata": {},
   "outputs": [],
   "source": [
    "df_tratado.loc[(df_tratado.safra != '2019/2020') & (df_tratado.safra != '2020/2020') & (df_tratado.safra != '2020/2021')]"
   ]
  },
  {
   "cell_type": "markdown",
   "metadata": {},
   "source": [
    "### ``` Funcao que retorna o coeficiente angular da reta que melhor se ajusta a curva ```"
   ]
  },
  {
   "cell_type": "code",
   "execution_count": null,
   "metadata": {},
   "outputs": [],
   "source": [
    "from sklearn import preprocessing\n",
    "\n",
    "ids = list(df_tratado['cod_produtor'].unique())\n",
    "df_tratado['ind_rec'] = 0\n",
    "\n",
    "df_tratado.head().T\n",
    "\n",
    "def best_fit(df):\n",
    "    \n",
    "    try:\n",
    "        df_F = df.loc[(df.safra != '2019/2020') & (df.safra != '2020/2020') & (df.safra != '2020/2021')]\n",
    "        df_F['vlr_rec_normalizado'] = preprocessing.scale(df_F['vlr_realizado_rec'])\n",
    "\n",
    "        Y = df_F['vlr_rec_normalizado']\n",
    "        X = df_F['indice_safra']\n",
    "\n",
    "        xbar = sum(X)/len(X)\n",
    "        ybar = sum(Y)/len(Y)\n",
    "        n = len(X) # or len(Y)\n",
    "\n",
    "        numer = sum([xi*yi for xi,yi in zip(X, Y)]) - n * xbar * ybar\n",
    "        denum = sum([xi**2 for xi in X]) - n * xbar**2\n",
    "\n",
    "        b = numer / denum\n",
    "        a = ybar - b * xbar\n",
    "    except:\n",
    "        b = 0\n",
    "        #a = ybar - b * xbar\n",
    "\n",
    "    #print('best fit line:\\ny = {:.2f} + {:.2f}x'.format(a, b))\n",
    "\n",
    "    return b\n",
    "\n",
    "for id_ in ids:\n",
    "    df_temp = df_tratado.loc[df_tratado.cod_produtor == id_]\n",
    "    b = best_fit(df_temp)\n",
    "    df_tratado.loc[df_tratado.cod_produtor==id_, 'ind_rec'] = b\n",
    "    \n",
    "df_tratado.head().T"
   ]
  },
  {
   "cell_type": "code",
   "execution_count": null,
   "metadata": {},
   "outputs": [],
   "source": [
    "df_tratado.loc[df_tratado.cod_produtor==2]"
   ]
  },
  {
   "cell_type": "code",
   "execution_count": null,
   "metadata": {},
   "outputs": [],
   "source": [
    "df_tratado['ind_fat'] = 0 \n",
    "\n",
    "def best_fit(df):\n",
    "    \n",
    "    try:\n",
    "        df_F = df.loc[(df.safra != '2019/2020') & (df.safra != '2020/2020') & (df.safra != '2020/2021')]\n",
    "        df_F['vlr_fat_normalizado'] = preprocessing.scale(df_F['vlr_realizado_fat'])\n",
    "        \n",
    "        Y = df_F['vlr_fat_normalizado']\n",
    "        X = df_F['indice_safra']\n",
    "\n",
    "        xbar = sum(X)/len(X)\n",
    "        ybar = sum(Y)/len(Y)\n",
    "        n = len(X) # or len(Y)\n",
    "\n",
    "        numer = sum([xi*yi for xi,yi in zip(X, Y)]) - n * xbar * ybar\n",
    "        denum = sum([xi**2 for xi in X]) - n * xbar**2\n",
    "\n",
    "\n",
    "        b = numer / denum\n",
    "        a = ybar - b * xbar\n",
    "    except:\n",
    "        b = 0\n",
    "        #a = ybar - b * xbar\n",
    "\n",
    "    #print('best fit line:\\ny = {:.2f} + {:.2f}x'.format(a, b))\n",
    "\n",
    "    return b\n",
    "\n",
    "for id_ in ids:\n",
    "    df_temp = df_tratado.loc[df_tratado.cod_produtor == id_]\n",
    "    b = best_fit(df_temp)\n",
    "    df_tratado.loc[df_tratado.cod_produtor==id_, 'ind_fat'] = b\n",
    "    \n",
    "df_tratado.head().T"
   ]
  },
  {
   "cell_type": "code",
   "execution_count": null,
   "metadata": {},
   "outputs": [],
   "source": [
    "df_tratado.to_csv('dados/produtor_crm.csv')"
   ]
  },
  {
   "cell_type": "markdown",
   "metadata": {},
   "source": [
    "### ``` Conta nulos ```"
   ]
  },
  {
   "cell_type": "code",
   "execution_count": null,
   "metadata": {},
   "outputs": [],
   "source": [
    "df_tratado.isna().sum()"
   ]
  }
 ],
 "metadata": {
  "kernelspec": {
   "display_name": "Python 3",
   "language": "python",
   "name": "python3"
  },
  "language_info": {
   "codemirror_mode": {
    "name": "ipython",
    "version": 3
   },
   "file_extension": ".py",
   "mimetype": "text/x-python",
   "name": "python",
   "nbconvert_exporter": "python",
   "pygments_lexer": "ipython3",
   "version": "3.7.2"
  }
 },
 "nbformat": 4,
 "nbformat_minor": 2
}
