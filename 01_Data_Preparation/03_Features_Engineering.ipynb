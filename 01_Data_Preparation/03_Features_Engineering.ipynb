{
 "cells": [
  {
   "cell_type": "code",
   "execution_count": null,
   "metadata": {},
   "outputs": [],
   "source": [
    "import pandas as pd\n",
    "import numpy as np\n",
    "avaliacao = pd.read_csv('dados/avaliacao.csv')\n",
    "produtor = pd.read_csv('dados/produtor_crm.csv')\n",
    "movimento = pd.read_csv('dados/movimento.csv')"
   ]
  },
  {
   "cell_type": "code",
   "execution_count": null,
   "metadata": {},
   "outputs": [],
   "source": [
    "from sklearn import preprocessing\n",
    "\n",
    "ids = [x for x in range(1,100)]\n",
    "\n",
    "df_pivot = produtor\n",
    "df_pivot['b'] = 0\n",
    "\n",
    "for coo_filtro in ids:\n",
    "\n",
    "    df_pivot = produtor[['vlr_potencial_fat','safra', 'vlr_realizado_fat', 'vlr_potencial_rec', 'vlr_realizado_rec','indice_safra', 'ind_fat', 'ind_rec']].loc[(produtor.cod_produtor==coo_filtro) & (produtor.safra != '2019/2020') & (produtor.safra != '2020/2020') & (produtor.safra != '2020/2021')]\n",
    "    df_pivot = df_pivot.sort_values('safra')\n",
    "    df_pivot = df_pivot.set_index('safra').reset_index()\n",
    "    df_pivot_temp = pd.DataFrame()\n",
    "    df_pivot_temp['vlr_fat'] = preprocessing.scale(df_pivot['vlr_realizado_fat'])\n",
    "    df_pivot_temp['vlr_rec'] = preprocessing.scale(df_pivot['vlr_realizado_rec'])\n",
    "\n",
    "    def best_fit(X,Y):\n",
    "        \n",
    "        try:\n",
    "            xbar = sum(X)/len(X)\n",
    "            ybar = sum(Y)/len(Y)\n",
    "            n = len(X) # or len(Y)\n",
    "\n",
    "\n",
    "            numer = sum([xi*yi for xi,yi in zip(X, Y)]) - n * xbar * ybar\n",
    "            denum = sum([xi**2 for xi in X]) - n * xbar**2\n",
    "            b = numer / denum\n",
    "\n",
    "        except:\n",
    "            b=0\n",
    "\n",
    "        #print('best fit line:\\ny = {:.2f} + {:.2f}x'.format(a, b))\n",
    "\n",
    "        return b\n",
    "\n",
    "    X = df_pivot['indice_safra']\n",
    "    Y = df_pivot_temp['vlr_fat']\n",
    "    b = best_fit(X,Y)\n",
    "    df_pivot['b'] = b\n",
    "    \n",
    "df_pivot.head().T"
   ]
  },
  {
   "cell_type": "code",
   "execution_count": null,
   "metadata": {},
   "outputs": [],
   "source": [
    "avaliacao.head().T\n",
    "print(avaliacao.columns, produtor.columns, movimento.columns)"
   ]
  },
  {
   "cell_type": "code",
   "execution_count": null,
   "metadata": {},
   "outputs": [],
   "source": [
    "#def tenta_conv(valor):\n",
    "#    try:\n",
    "#        if valor == '(null)':\n",
    "#            valor = 99/99/9999\n",
    "#            return pd.to_datetime(valor, infer_datetime_format=True)\n",
    "#        else: \n",
    "#            valor = pd.to_datetime(valor, infer_datetime_format=True)\n",
    "#    except:\n",
    "#        return pd.to_datetime(valor, infer_datetime_format=True)\n",
    "#\n",
    "#avaliacao.dt_ult_movto = avaliacao.dt_ult_movto.apply(tenta_conv)"
   ]
  },
  {
   "cell_type": "code",
   "execution_count": null,
   "metadata": {},
   "outputs": [],
   "source": [
    "avaliacao = avaliacao[avaliacao.dt_ult_movto != '(null)']"
   ]
  },
  {
   "cell_type": "code",
   "execution_count": null,
   "metadata": {},
   "outputs": [],
   "source": [
    "avaliacao['dt_ult_movto'] = pd.to_datetime(avaliacao['dt_ult_movto'])"
   ]
  },
  {
   "cell_type": "code",
   "execution_count": null,
   "metadata": {},
   "outputs": [],
   "source": [
    "lista_cdn = list(avaliacao['nome-abrev'])"
   ]
  },
  {
   "cell_type": "code",
   "execution_count": null,
   "metadata": {},
   "outputs": [],
   "source": [
    "def tipoSafra(safra):\n",
    "    try:\n",
    "        safra = safra.split('/')\n",
    "        if safra[0]==safra[1]:\n",
    "            return 'Inverno'\n",
    "        else:\n",
    "            return 'Verao'\n",
    "    except:\n",
    "        return 'N/D'\n",
    "\n",
    "def extraiMovimento(codigo, movimento):\n",
    "    subset = movimento.loc[movimento.cod_produtor==codigo]\n",
    "    subset['tiposafra'] = movimento.safra.apply(tipoSafra)\n",
    "    #Caso o produtor tenha mais de uma plantação a função abaixo o agrupa\n",
    "    datag = subset.groupby(['tiposafra','Codcult','safra']).agg(Recebimento=('qde_tot_rec','sum'),\n",
    "                                                                n_propriedades=('cod_produtor','count'),\n",
    "                                                                Faturamento=('vlr_total_fat','sum'),\n",
    "                                                                Area=('area_pot_int','sum'))\n",
    "    datag.reset_index(inplace=True)\n",
    "    #datag.loc[datag.Area == 0, 'Area'] = np.nan\n",
    "    #datag.Area = datag.Area.fillna(datag.Area.median())\n",
    "    datag['codigo'] = codigo\n",
    "    display(datag)\n",
    "\n",
    "avaliacao.loc[avaliacao.cdn_cliente==10].cdn_cliente.apply(lambda x: extraiMovimento(x, movimento))\n",
    "print('fim')"
   ]
  },
  {
   "cell_type": "code",
   "execution_count": null,
   "metadata": {},
   "outputs": [],
   "source": [
    "dt_final = pd.DataFrame()\n",
    "\n",
    "def tipoSafra(safra):\n",
    "    try:\n",
    "        safra = safra.split('/')\n",
    "        if safra[0]==safra[1]:\n",
    "            return 'Inverno'\n",
    "        else:\n",
    "            return 'Verao'\n",
    "    except:\n",
    "        return 'N/D'\n",
    "\n",
    "def extraiMovimento(codigo, movimento):\n",
    "    subset = movimento.loc[movimento.cod_produtor==codigo]\n",
    "    subset['tiposafra'] = movimento.safra.apply(tipoSafra)\n",
    "    #Caso o produtor tenha mais de uma plantação a função abaixo o agrupa\n",
    "    datag = subset.groupby(['tiposafra','Codcult','safra']).agg(Recebimento=('qde_tot_rec','sum'),\n",
    "                                                                n_propriedades=('cod_produtor','count'),\n",
    "                                                                Faturamento=('vlr_total_fat','sum'),\n",
    "                                                                Area=('area_pot_int','sum'))\n",
    "    datag.reset_index(inplace=True)\n",
    "    #datag.loc[datag.Area == 0, 'Area'] = np.nan\n",
    "    #datag.Area = datag.Area.fillna(datag.Area.median())\n",
    "    datag['codigo'] = codigo\n",
    "    #display(datag)\n",
    "    print(codigo)\n",
    "    \n",
    "    return datag\n",
    "\n",
    "\n",
    "for cdn in lista_cdn:\n",
    "    \n",
    "    dt_temp = avaliacao.loc[avaliacao.cdn_cliente==cdn].cdn_cliente.apply(lambda x: extraiMovimento(x, movimento))\n",
    "    dt_final = pd.concat([dt_final, dt_temp])\n",
    "    \n",
    "print('fim')"
   ]
  },
  {
   "cell_type": "code",
   "execution_count": null,
   "metadata": {},
   "outputs": [],
   "source": [
    "dt_final"
   ]
  },
  {
   "cell_type": "code",
   "execution_count": null,
   "metadata": {},
   "outputs": [],
   "source": [
    "# sample points \n",
    "X = [0, 5, 10, 15, 20]\n",
    "Y = [0, 7, 10, 13, 10]\n",
    "\n",
    "# solve for a and b\n",
    "def best_fit(X, Y):\n",
    "\n",
    "    xbar = sum(X)/len(X)\n",
    "    ybar = sum(Y)/len(Y)\n",
    "    n = len(X) # or len(Y)\n",
    "\n",
    "    numer = sum([xi*yi for xi,yi in zip(X, Y)]) - n * xbar * ybar\n",
    "    denum = sum([xi**2 for xi in X]) - n * xbar**2\n",
    "\n",
    "    b = numer / denum\n",
    "    a = ybar - b * xbar\n",
    "\n",
    "    print('best fit line:\\ny = {:.2f} + {:.2f}x'.format(a, b))\n",
    "\n",
    "    return a, b\n",
    "\n",
    "# solution\n",
    "a, b = best_fit(X, Y)\n",
    "#best fit line:\n",
    "#y = 0.80 + 0.92x\n",
    "\n",
    "# plot points and fit line\n",
    "import matplotlib.pyplot as plt\n",
    "plt.scatter(X, Y)\n",
    "yfit = [a + b * xi for xi in X]\n",
    "plt.plot(X, yfit)\n",
    "plt.show()\n",
    "print(b)"
   ]
  },
  {
   "cell_type": "code",
   "execution_count": null,
   "metadata": {},
   "outputs": [],
   "source": []
  }
 ],
 "metadata": {
  "kernelspec": {
   "display_name": "Python 3",
   "language": "python",
   "name": "python3"
  },
  "language_info": {
   "codemirror_mode": {
    "name": "ipython",
    "version": 3
   },
   "file_extension": ".py",
   "mimetype": "text/x-python",
   "name": "python",
   "nbconvert_exporter": "python",
   "pygments_lexer": "ipython3",
   "version": "3.7.7"
  }
 },
 "nbformat": 4,
 "nbformat_minor": 2
}
