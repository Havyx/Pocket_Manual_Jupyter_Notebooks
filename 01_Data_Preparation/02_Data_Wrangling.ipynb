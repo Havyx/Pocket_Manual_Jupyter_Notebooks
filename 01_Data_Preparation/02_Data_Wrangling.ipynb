{
 "cells": [
  {
   "cell_type": "code",
   "execution_count": null,
   "metadata": {},
   "outputs": [],
   "source": [
    "import pandas as pd\n",
    "import numpy as np\n",
    "avaliacao = pd.read_csv('dados/avaliacao.csv')\n",
    "produtor = pd.read_csv('dados/produtor_crm.csv')\n",
    "movimento = pd.read_csv('dados/movimento.csv')"
   ]
  },
  {
   "cell_type": "code",
   "execution_count": null,
   "metadata": {},
   "outputs": [],
   "source": [
    "import pandas_profiling\n",
    "movimento[movimento.cod_produtor==12]\n",
    "\n",
    "import matplotlib.pyplot as plt\n",
    "\n",
    "def get_corr(df):\n",
    "\n",
    "    f = plt.figure(figsize=(24, 24))\n",
    "    plt.matshow(df.corr(), fignum=f.number)\n",
    "    plt.xticks(range(df.shape[1]), df.columns, fontsize=12, rotation=90)\n",
    "    plt.yticks(range(df.shape[1]), df.columns, fontsize=12)\n",
    "    cb = plt.colorbar()\n",
    "    cb.ax.tick_params(labelsize=16)\n",
    "    plt.plot()\n",
    "    #plt.title('Correlation Matrix', fontsize=16);\n",
    "    \n",
    "get_corr(pd.read_csv('dados/avaliacao.csv'))"
   ]
  },
  {
   "cell_type": "code",
   "execution_count": null,
   "metadata": {},
   "outputs": [],
   "source": [
    "df_movimento = pd.read_csv('./dados/movimento.csv')\n",
    "df_safra = df_movimento[df_movimento.Codcult=='SOT']\n",
    "\n",
    "df_1 = df_safra.loc[((df_safra.safra=='2014/2015') & (df_safra.vlr_total_fat>0))]\n",
    "df_2 = df_safra.loc[((df_safra.safra=='2015/2016') & (df_safra.vlr_total_fat>0))]\n",
    "df_3 = df_safra.loc[((df_safra.safra=='2016/2017') & (df_safra.vlr_total_fat>0))]\n",
    "df_4 = df_safra.loc[((df_safra.safra=='2018/2019') & (df_safra.vlr_total_fat>0))]\n",
    "df_5 = df_safra.loc[((df_safra.safra=='2016/2017') & (df_safra.vlr_total_fat==0))]\n",
    "df_6 = df_safra.loc[((df_safra.safra=='2018/2019') & (df_safra.vlr_total_fat==0))]"
   ]
  },
  {
   "cell_type": "code",
   "execution_count": null,
   "metadata": {},
   "outputs": [],
   "source": [
    "resultado = pd.DataFrame()\n",
    "\n",
    "for id_ in range(1000):\n",
    "    if (df_1.vlr_total_fat.loc[((df_1.cod_produtor == id_))].all() > 0):\n",
    "        if (df_2.vlr_total_fat.loc[((df_2.cod_produtor == id_))].all() > 0):\n",
    "            if (df_3.vlr_total_fat.loc[((df_3.cod_produtor == id_))].all() > 0):\n",
    "                if (df_4.vlr_total_fat.loc[((df_4.cod_produtor == id_))].all() > 0):\n",
    "                    df1 = df_safra.loc[((df_safra.safra=='2014/2015') & (df_safra.vlr_total_fat>0) & (df_safra.cod_produtor == id_))]\n",
    "                    df2 = df_safra.loc[((df_safra.safra=='2015/2016') & (df_safra.vlr_total_fat>0) & (df_safra.cod_produtor == id_))]\n",
    "                    df3 = df_safra.loc[((df_safra.safra=='2016/2017') & (df_safra.vlr_total_fat>0) & (df_safra.cod_produtor == id_))]\n",
    "                    df4 = df_safra.loc[((df_safra.safra=='2018/2019') & (df_safra.vlr_total_fat>0) & (df_safra.cod_produtor == id_))]\n",
    "                    frames = [df1, df2, df3, df4]\n",
    "                    resultado = resultado.append(frames)\n",
    "\n",
    "resultado"
   ]
  },
  {
   "cell_type": "code",
   "execution_count": null,
   "metadata": {},
   "outputs": [],
   "source": [
    "resultado2 = pd.DataFrame()\n",
    "\n",
    "for id_ in range(1000):\n",
    "    if (df_1.vlr_total_fat.loc[((df_1.cod_produtor == id_))].all() > 0):\n",
    "        if (df_2.vlr_total_fat.loc[((df_2.cod_produtor == id_))].all() > 0):\n",
    "            if (df_5.vlr_total_fat.loc[((df_5.cod_produtor == id_))].all() == 0):\n",
    "                if (df_6.vlr_total_fat.loc[((df_6.cod_produtor == id_))].all() == 0):\n",
    "                    df1 = df_safra.loc[((df_safra.safra=='2014/2015') & (df_safra.vlr_total_fat>0) & (df_safra.cod_produtor == id_))]\n",
    "                    df2 = df_safra.loc[((df_safra.safra=='2015/2016') & (df_safra.vlr_total_fat>0) & (df_safra.cod_produtor == id_))]\n",
    "                    df5 = df_safra.loc[((df_safra.safra=='2016/2017') & (df_safra.vlr_total_fat==0) & (df_safra.cod_produtor == id_))]\n",
    "                    df6 = df_safra.loc[((df_safra.safra=='2018/2019') & (df_safra.vlr_total_fat==0) & (df_safra.cod_produtor == id_))]\n",
    "                    frames = [df1, df2, df5, df6]\n",
    "                    resultado2 = resultado2.append(frames)\n",
    "\n",
    "resultado2"
   ]
  },
  {
   "cell_type": "code",
   "execution_count": null,
   "metadata": {},
   "outputs": [],
   "source": [
    "#modelo criado a partir do faturamento\n",
    "#Classificador do cooperado 0: nao vai ficar inativo, 1 fica inativo, 2 alerta de inatividade\n",
    "# calcular com base na safra em quantas safras o produtor vai comecar a ficar inativo\n",
    "# dropar as colunas 2016/2017 -> 2018/2019 para todos os produtores para o modelo não usar os ZEROS de faturamento.\n",
    "#2013/2014 -> 2016/2017 -> 6 safras\n",
    "#2014/2015 -> 5 safras\n",
    "#produtor que nao fica inativo mais que 7 safras\n",
    "# cria-se 3 classificações produtor fica inativo em 2 safras, produtor fica inativo entre 3 a 5 safras > 6 safras\n",
    "\n",
    "\n",
    "resultado['classificador'] = 0\n",
    "resultado2['classificador'] = 1"
   ]
  },
  {
   "cell_type": "code",
   "execution_count": null,
   "metadata": {},
   "outputs": [],
   "source": [
    "avaliacao = pd.read_csv('dados/avaliacao.csv')\n",
    "avaliacao.rename(columns={'nome-abrev':'cod_nome'}, inplace=True)"
   ]
  },
  {
   "cell_type": "code",
   "execution_count": null,
   "metadata": {},
   "outputs": [],
   "source": [
    "res_ids = resultado.cod_produtor.unique()\n",
    "res_ids2 = resultado2.cod_produtor.unique()"
   ]
  },
  {
   "cell_type": "code",
   "execution_count": null,
   "metadata": {},
   "outputs": [],
   "source": [
    "def busca_dados(id_, df_1, dat_):\n",
    "    if (df_1.loc[df_1.cod_produtor == id_].any()).any():\n",
    "        #print(df_1.vlr_total_fat.loc[(df_1.safra=='2014/2015')& (df_1.cod_produtor==id_)].sum())\n",
    "        return df_1.vlr_total_fat.loc[(df_1.safra==dat_)& (df_1.cod_produtor==id_)].sum()\n",
    "    \n",
    "for i in range(1000):\n",
    "    \n",
    "    avaliacao.loc[avaliacao.cod_nome==i, '2014/2014'] = busca_dados(i, df_movimento,'2014/2014')"
   ]
  },
  {
   "cell_type": "code",
   "execution_count": null,
   "metadata": {},
   "outputs": [],
   "source": [
    "def busca_dados(id_, df_1,df_2):\n",
    "    if (df_1.loc[df_1.cod_produtor == id_].any()).any():\n",
    "        #print(df_1.vlr_total_fat.loc[(df_1.safra=='2014/2015')& (df_1.cod_produtor==id_)].sum())\n",
    "        return df_1.vlr_total_fat.loc[(df_1.safra=='2014/2015')& (df_1.cod_produtor==id_)].sum()\n",
    "    if (df_2.loc[df_2.cod_produtor == id_].any()).any():\n",
    "    #print(df_1.vlr_total_fat.loc[(df_1.safra=='2014/2015')& (df_1.cod_produtor==id_)].sum())\n",
    "        return df_2.vlr_total_fat.loc[(df_2.safra=='2014/2015')& (df_2.cod_produtor==id_)].sum()\n",
    "    \n",
    "for i in range(1000):\n",
    "    avaliacao.loc[avaliacao.cod_nome==i, '2014/2015'] = busca_dados(i, resultado,resultado2)"
   ]
  },
  {
   "cell_type": "code",
   "execution_count": null,
   "metadata": {},
   "outputs": [],
   "source": [
    "def busca_dados(id_, df_1, dat_):\n",
    "    if (df_1.loc[df_1.cod_produtor == id_].any()).any():\n",
    "        #print(df_1.vlr_total_fat.loc[(df_1.safra=='2014/2015')& (df_1.cod_produtor==id_)].sum())\n",
    "        return df_1.vlr_total_fat.loc[(df_1.safra==dat_)& (df_1.cod_produtor==id_)].sum()\n",
    "    \n",
    "for i in range(1000):\n",
    "    \n",
    "    avaliacao.loc[avaliacao.cod_nome==i, '2015/2015'] = busca_dados(i, df_movimento,'2015/2015')"
   ]
  },
  {
   "cell_type": "code",
   "execution_count": null,
   "metadata": {},
   "outputs": [],
   "source": [
    "df_1.vlr_total_fat.loc[(df_1.safra=='2014/2015') & (df_1.cod_produtor==5)]\n"
   ]
  },
  {
   "cell_type": "code",
   "execution_count": null,
   "metadata": {},
   "outputs": [],
   "source": [
    "def busca_dados(id_, df_1,df_2, dat_):\n",
    "    if (df_1.loc[df_1.cod_produtor == id_].any()).any():\n",
    "        #print(df_1.vlr_total_fat.loc[(df_1.safra=='2014/2015')& (df_1.cod_produtor==id_)].sum())\n",
    "        return df_1.vlr_total_fat.loc[(df_1.safra==dat_)& (df_1.cod_produtor==id_)].sum()\n",
    "    if (df_2.loc[df_2.cod_produtor == id_].any()).any():\n",
    "    #print(df_1.vlr_total_fat.loc[(df_1.safra=='2014/2015')& (df_1.cod_produtor==id_)].sum())\n",
    "        return df_2.vlr_total_fat.loc[(df_2.safra==dat_)& (df_2.cod_produtor==id_)].sum()\n",
    "\n",
    "for i in range(1000):\n",
    "    \n",
    "    avaliacao.loc[avaliacao.cod_nome==i, '2015/2016'] = busca_dados(i, resultado,resultado2,'2015/2016')"
   ]
  },
  {
   "cell_type": "code",
   "execution_count": null,
   "metadata": {},
   "outputs": [],
   "source": [
    "def busca_dados(id_, df_1, dat_):\n",
    "    if (df_1.loc[df_1.cod_produtor == id_].any()).any():\n",
    "        #print(df_1.vlr_total_fat.loc[(df_1.safra=='2014/2015')& (df_1.cod_produtor==id_)].sum())\n",
    "        return df_1.vlr_total_fat.loc[(df_1.safra==dat_)& (df_1.cod_produtor==id_)].sum()\n",
    "    \n",
    "for i in range(1000):\n",
    "    \n",
    "    avaliacao.loc[avaliacao.cod_nome==i, '2016/2016'] = busca_dados(i, df_movimento,'2016/2016')"
   ]
  },
  {
   "cell_type": "code",
   "execution_count": null,
   "metadata": {},
   "outputs": [],
   "source": [
    "df_movimento.safra.unique()"
   ]
  },
  {
   "cell_type": "code",
   "execution_count": null,
   "metadata": {},
   "outputs": [],
   "source": [
    "avaliacao"
   ]
  },
  {
   "cell_type": "code",
   "execution_count": null,
   "metadata": {},
   "outputs": [],
   "source": [
    "avaliacao.dropna(inplace=True)"
   ]
  },
  {
   "cell_type": "code",
   "execution_count": null,
   "metadata": {},
   "outputs": [],
   "source": [
    "def busca_classificador(id_, res):\n",
    "\n",
    "        return res.classificador.loc[res.cod_produtor==id_].mean()\n",
    "    \n",
    "for i in res_ids:\n",
    "    avaliacao.loc[avaliacao.cod_nome==i, 'classificador'] = busca_classificador(i, resultado)\n",
    "for i in res_ids2:\n",
    "    avaliacao.loc[avaliacao.cod_nome==i, 'classificador'] = busca_classificador(i, resultado2)\n",
    "#avaliacao['classificador'] = sum(avaliacao.classificador1 + avaliacao.classificador2 + avaliacao.classificador3)\n",
    "#avaliacao.drop(['classificador1','classificador2','classificador3'], axis=1, inplace=True)"
   ]
  },
  {
   "cell_type": "code",
   "execution_count": null,
   "metadata": {},
   "outputs": [],
   "source": [
    "avaliacao[avaliacao.classificador==1]"
   ]
  },
  {
   "cell_type": "code",
   "execution_count": null,
   "metadata": {},
   "outputs": [],
   "source": [
    "avaliacao['soma_fat']= avaliacao['2014/2014'] + avaliacao['2014/2015'] + avaliacao['2015/2015'] + avaliacao['2015/2016'] + avaliacao['2016/2016']"
   ]
  },
  {
   "cell_type": "code",
   "execution_count": null,
   "metadata": {},
   "outputs": [],
   "source": [
    "index_values = avaliacao.loc[avaliacao.soma_fat<5000].index"
   ]
  },
  {
   "cell_type": "code",
   "execution_count": null,
   "metadata": {},
   "outputs": [],
   "source": [
    "avaliacao.drop(index_values , inplace=True)"
   ]
  },
  {
   "cell_type": "code",
   "execution_count": null,
   "metadata": {},
   "outputs": [],
   "source": [
    "avaliacao"
   ]
  },
  {
   "cell_type": "code",
   "execution_count": null,
   "metadata": {},
   "outputs": [],
   "source": [
    "avaliacao[avaliacao.classificador==1]\n",
    "#avaliacao.drop(['Unnamed: 0'], axis=1, inplace=True)\n",
    "#avaliacao.drop(['cod_empresa'], axis=1, inplace=True)\n",
    "avaliacao.drop(['cod_estabel', 'Bloqueado', 'log_ativo','dt_ult_movto','safra_ult_movto','situacao','cdn_cliente'], axis=1, inplace=True)"
   ]
  },
  {
   "cell_type": "code",
   "execution_count": null,
   "metadata": {},
   "outputs": [],
   "source": [
    "avaliacao['dt_inscricao'] = pd.to_datetime(avaliacao.dt_inscricao)"
   ]
  },
  {
   "cell_type": "code",
   "execution_count": null,
   "metadata": {},
   "outputs": [],
   "source": [
    "avaliacao['cooperado_faz_x_anos'] = 2020 - avaliacao.dt_inscricao.dt.year"
   ]
  },
  {
   "cell_type": "code",
   "execution_count": null,
   "metadata": {},
   "outputs": [],
   "source": [
    "avaliacao.drop('dt_inscricao', axis=1, inplace=True)"
   ]
  },
  {
   "cell_type": "code",
   "execution_count": null,
   "metadata": {},
   "outputs": [],
   "source": [
    "avaliacao.columns"
   ]
  },
  {
   "cell_type": "code",
   "execution_count": null,
   "metadata": {},
   "outputs": [],
   "source": [
    "import matplotlib.pyplot as plt\n",
    "\n",
    "def get_corr(df):\n",
    "\n",
    "    f = plt.figure(figsize=(24, 24))\n",
    "    plt.matshow(df.corr(), fignum=f.number)\n",
    "    plt.xticks(range(df.shape[1]), df.columns, fontsize=12, rotation=90)\n",
    "    plt.yticks(range(df.shape[1]), df.columns, fontsize=12)\n",
    "    cb = plt.colorbar()\n",
    "    cb.ax.tick_params(labelsize=16)\n",
    "    plt.plot()\n",
    "    #plt.title('Correlation Matrix', fontsize=16);\n",
    "    \n",
    "get_corr(avaliacao)"
   ]
  },
  {
   "cell_type": "code",
   "execution_count": null,
   "metadata": {},
   "outputs": [],
   "source": [
    "def scale(df):\n",
    "    #return (df - df.mean())/df.std()\n",
    "    return (df - df.min())/(df.max()-df.min())\n",
    "\n",
    "for col in avaliacao.columns:\n",
    "    if col[0] == '2':\n",
    "        avaliacao[col] = scale(avaliacao[col])\n",
    "    if col == 'cooperado_faz_x_anos':\n",
    "        avaliacao[col] = scale(avaliacao[col])\n",
    "\n",
    "y = pd.DataFrame(avaliacao['classificador'])\n",
    "X = avaliacao.drop(['classificador', 'cod_nome'], axis=1)\n",
    "from sklearn.model_selection import train_test_split\n",
    "X_train, X_test, y_train, y_test = train_test_split(X, y, test_size=0.25, random_state=4)"
   ]
  },
  {
   "cell_type": "code",
   "execution_count": null,
   "metadata": {},
   "outputs": [],
   "source": [
    "X_train"
   ]
  },
  {
   "cell_type": "code",
   "execution_count": null,
   "metadata": {},
   "outputs": [],
   "source": [
    "import pandas as pd\n",
    "from sklearn.ensemble import RandomForestClassifier\n",
    "from sklearn.feature_selection import SelectFromModel\n",
    "\n",
    "sel = SelectFromModel(RandomForestClassifier(n_estimators = 100))\n",
    "sel.fit(X_train, y_train)"
   ]
  },
  {
   "cell_type": "code",
   "execution_count": null,
   "metadata": {},
   "outputs": [],
   "source": [
    "sel.get_support()"
   ]
  },
  {
   "cell_type": "code",
   "execution_count": null,
   "metadata": {},
   "outputs": [],
   "source": [
    "selected_feat= X_train.columns[(sel.get_support())]\n",
    "len(selected_feat)"
   ]
  },
  {
   "cell_type": "code",
   "execution_count": null,
   "metadata": {},
   "outputs": [],
   "source": [
    "print(selected_feat)"
   ]
  },
  {
   "cell_type": "code",
   "execution_count": null,
   "metadata": {},
   "outputs": [],
   "source": [
    "X_test = X_test[['ind-protesto','cooperado_faz_x_anos','tipo_retencao_inss','GRANDE2', 'GRANDE3','PRMAX','2014/2014', '2014/2015', '2015/2015', '2015/2016', '2016/2016']]\n",
    "\n",
    "X_train = X_train[['ind-protesto','cooperado_faz_x_anos','tipo_retencao_inss','GRANDE2', 'GRANDE3','PRMAX','2014/2014', '2014/2015', '2015/2015', '2015/2016', '2016/2016']]\n",
    "#X_train"
   ]
  },
  {
   "cell_type": "code",
   "execution_count": null,
   "metadata": {},
   "outputs": [],
   "source": [
    "from sklearn.neighbors import KNeighborsClassifier\n",
    "knn = KNeighborsClassifier(n_neighbors=5)\n",
    "knn.fit(X_train, y_train)\n",
    "prediction = knn.predict(X_test)"
   ]
  },
  {
   "cell_type": "code",
   "execution_count": null,
   "metadata": {},
   "outputs": [],
   "source": [
    "from sklearn.metrics import classification_report"
   ]
  },
  {
   "cell_type": "code",
   "execution_count": null,
   "metadata": {},
   "outputs": [],
   "source": [
    "print(classification_report(y_test, prediction))"
   ]
  }
 ],
 "metadata": {
  "kernelspec": {
   "display_name": "Python 3",
   "language": "python",
   "name": "python3"
  },
  "language_info": {
   "codemirror_mode": {
    "name": "ipython",
    "version": 3
   },
   "file_extension": ".py",
   "mimetype": "text/x-python",
   "name": "python",
   "nbconvert_exporter": "python",
   "pygments_lexer": "ipython3",
   "version": "3.7.2"
  }
 },
 "nbformat": 4,
 "nbformat_minor": 2
}
