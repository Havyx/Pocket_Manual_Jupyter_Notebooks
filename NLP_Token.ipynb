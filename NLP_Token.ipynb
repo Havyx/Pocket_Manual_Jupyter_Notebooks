{
 "cells": [
  {
   "cell_type": "code",
   "execution_count": 1,
   "metadata": {},
   "outputs": [],
   "source": [
    "import spacy"
   ]
  },
  {
   "cell_type": "code",
   "execution_count": 2,
   "metadata": {},
   "outputs": [],
   "source": [
    "nlp = spacy.load('pt')"
   ]
  },
  {
   "cell_type": "code",
   "execution_count": 7,
   "metadata": {},
   "outputs": [],
   "source": [
    "doc = nlp(u'Transforma-se o amador na cousa amada, por virtude do muito imaginar;não tenho logo mais que desejar,pois em mim tenho a parte desejada.')"
   ]
  },
  {
   "cell_type": "code",
   "execution_count": 8,
   "metadata": {},
   "outputs": [
    {
     "name": "stdout",
     "output_type": "stream",
     "text": [
      "Transforma-se VERB ROOT\n",
      "o DET det\n",
      "amador NOUN obj\n",
      "na PROPN appos\n",
      "cousa NOUN flat:name\n",
      "amada VERB acl\n",
      ", PUNCT punct\n",
      "por ADP case\n",
      "virtude NOUN obl\n",
      "do ADP case\n",
      "muito ADV det\n",
      "imaginar;não PUNCT nmod\n",
      "tenho VERB ROOT\n",
      "logo ADV advmod\n",
      "mais ADV advmod\n",
      "que SCONJ mark\n",
      "desejar VERB advcl\n",
      ", PUNCT punct\n",
      "pois SCONJ advmod\n",
      "em ADP case\n",
      "mim PRON obl\n",
      "tenho VERB advcl\n",
      "a DET det\n",
      "parte NOUN obj\n",
      "desejada VERB acl\n",
      ". PUNCT punct\n"
     ]
    }
   ],
   "source": [
    "for token in doc:\n",
    "    print(token.text, token.pos_, token.dep_)"
   ]
  },
  {
   "cell_type": "code",
   "execution_count": 14,
   "metadata": {},
   "outputs": [
    {
     "data": {
      "text/plain": [
       "[('tagger', <spacy.pipeline.pipes.Tagger at 0x7f752c2e2e48>),\n",
       " ('parser', <spacy.pipeline.pipes.DependencyParser at 0x7f752bff3228>),\n",
       " ('ner', <spacy.pipeline.pipes.EntityRecognizer at 0x7f752bff3288>)]"
      ]
     },
     "execution_count": 14,
     "metadata": {},
     "output_type": "execute_result"
    }
   ],
   "source": [
    "nlp.pipeline"
   ]
  },
  {
   "cell_type": "code",
   "execution_count": 15,
   "metadata": {},
   "outputs": [
    {
     "data": {
      "text/plain": [
       "['tagger', 'parser', 'ner']"
      ]
     },
     "execution_count": 15,
     "metadata": {},
     "output_type": "execute_result"
    }
   ],
   "source": [
    "nlp.pipe_names"
   ]
  },
  {
   "cell_type": "code",
   "execution_count": 23,
   "metadata": {},
   "outputs": [],
   "source": [
    "doc2 = nlp(u'Tesla nao esta     procurando por Startups mais')"
   ]
  },
  {
   "cell_type": "code",
   "execution_count": 24,
   "metadata": {},
   "outputs": [
    {
     "name": "stdout",
     "output_type": "stream",
     "text": [
      "Tesla PROPN ROOT False\n",
      "nao PROPN det False\n",
      "esta DET det True\n",
      "     SPACE  False\n",
      "procurando VERB acl False\n",
      "por ADP case True\n",
      "Startups PROPN obl:agent False\n",
      "mais ADV advmod True\n"
     ]
    }
   ],
   "source": [
    "for token in doc2:\n",
    "    print(token.text, token.pos_, token.dep_, token.is_stop)"
   ]
  },
  {
   "cell_type": "code",
   "execution_count": null,
   "metadata": {},
   "outputs": [],
   "source": []
  }
 ],
 "metadata": {
  "kernelspec": {
   "display_name": "Python 3",
   "language": "python",
   "name": "python3"
  },
  "language_info": {
   "codemirror_mode": {
    "name": "ipython",
    "version": 3
   },
   "file_extension": ".py",
   "mimetype": "text/x-python",
   "name": "python",
   "nbconvert_exporter": "python",
   "pygments_lexer": "ipython3",
   "version": "3.7.2"
  }
 },
 "nbformat": 4,
 "nbformat_minor": 4
}
