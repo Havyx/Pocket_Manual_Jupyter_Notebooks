{
 "cells": [
  {
   "cell_type": "code",
   "execution_count": 26,
   "metadata": {
    "scrolled": true
   },
   "outputs": [
    {
     "name": "stdout",
     "output_type": "stream",
     "text": [
      "<Response [200]>\n",
      "{'resposta': {'data': ' \\n \\n  \\n  \\n\\nPALAVRA DO PRESIDENTE\\n\\nO Sistema Fiep existe por causa da indústria. É em razão dela e para seu\\nbenefício que nossas casas — Heep, Sesi, Senal e IEL - devem sempre trabalhar.\\nPartindo dessa diretriz, a nova diretoria que, em outubro de 2019, assumiu para\\num mandato de quatro anos à frente da instituição, coloca como prioridade\\nabsoluta o foco na evolução do setor industrial paranaense.\\n\\nNos últimos anos, o Sistema Fiep realizou importantes investimentos para\\nampliar e aprimorar sua estrutura de atendimento à indústria em suas áreas\\nde atuação: representatividade, educação e capacitação, segurança e saúde\\nno trabalho, inovação e tecnologia. Com isso, e com a qualidade de seu corpo\\ntécnico, tem totais condições de prestar apoio para que a indústria paranaense\\nenfrente os desafios que se colocam a sua frente.\\n\\nVamos, a partir de agora, aprimorar cada vez mais nossos serviços e fazer com\\nque cheguem ao conhecimento das indústrias. Valorizar o empreendedorismo\\ne a força de nossos industriais, atendendo suas necessidades de maneira mais\\neficiente, é o caminho para que o Sistema Fiep continue sendo relevante para\\na indústria.\\n\\nNesse processo, colocamos como prioridade também o fortalecimento de\\nnossos sindicatos industriais filiados. Por sua representatividade setorial e\\n\\ngeográfica, eles são o elo mais próximo das indústrias e precisam ter mais\\n\\nn verdadeiro vetor de desenvolvimento econômico e\\nara nosso país.\\n\\n  \\n\\x0c', 'fieldname': 'image', 'originalname': 'image.jpg', 'encoding': '7bit', 'mimetype': 'image/jpeg', 'destination': 'images', 'filename': 'image_1581612086364', 'path': 'images/image_1581612086364', 'size': 259046}}\n"
     ]
    }
   ],
   "source": [
    "URL = \"https://34f6984e.ngrok.io\"\n",
    "\n",
    "import requests\n",
    "\n",
    "r = requests.get(url = URL) \n",
    "print(r)\n",
    "\n",
    "data = r.json()\n",
    "print(data[1])"
   ]
  },
  {
   "cell_type": "code",
   "execution_count": null,
   "metadata": {},
   "outputs": [],
   "source": []
  }
 ],
 "metadata": {
  "kernelspec": {
   "display_name": "Python 3",
   "language": "python",
   "name": "python3"
  },
  "language_info": {
   "codemirror_mode": {
    "name": "ipython",
    "version": 3
   },
   "file_extension": ".py",
   "mimetype": "text/x-python",
   "name": "python",
   "nbconvert_exporter": "python",
   "pygments_lexer": "ipython3",
   "version": "3.7.2"
  }
 },
 "nbformat": 4,
 "nbformat_minor": 4
}
