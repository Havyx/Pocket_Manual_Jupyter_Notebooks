{
 "cells": [
  {
   "cell_type": "code",
   "execution_count": 8,
   "metadata": {},
   "outputs": [
    {
     "name": "stdout",
     "output_type": "stream",
     "text": [
      "Sigmoid Function Output :: [0.8807970779778823, 0.9525741268224334, 0.9933071490757153, 0.9975273768433653]\n"
     ]
    }
   ],
   "source": [
    "#Sigmoid FunctionPython\n",
    "# Required Python Package\n",
    "import numpy as np\n",
    "\n",
    "def sigmoid(inputs):\n",
    "    \"\"\"\n",
    "    Calculate the sigmoid for the give inputs (array)\n",
    "    :param inputs:\n",
    "    :return:\n",
    "    \"\"\"\n",
    "    sigmoid_scores = [1 / float(1 + np.exp(- x)) for x in inputs]\n",
    "    return sigmoid_scores\n",
    "\n",
    "\n",
    "sigmoid_inputs = [2, 3, 5, 6]\n",
    "print(\"Sigmoid Function Output :: {}\".format(sigmoid(sigmoid_inputs)))"
   ]
  },
  {
   "cell_type": "code",
   "execution_count": 9,
   "metadata": {},
   "outputs": [
    {
     "name": "stdout",
     "output_type": "stream",
     "text": [
      "Graph X readings: range(0, 21)\n",
      "Graph Y readings: [0.5, 0.7310585786300049, 0.8807970779778823, 0.9525741268224334, 0.9820137900379085, 0.9933071490757153, 0.9975273768433653, 0.9990889488055994, 0.9996646498695336, 0.9998766054240137, 0.9999546021312976, 0.999983298578152, 0.9999938558253978, 0.999997739675702, 0.9999991684719722, 0.999999694097773, 0.9999998874648379, 0.9999999586006244, 0.9999999847700205, 0.9999999943972036, 0.9999999979388463]\n"
     ]
    },
    {
     "data": {
      "image/png": "[encoded data removed]",
      "text/plain": [
       "<Figure size 432x288 with 1 Axes>"
      ]
     },
     "metadata": {
      "needs_background": "light"
     },
     "output_type": "display_data"
    }
   ],
   "source": [
    "# Required Python Packages\n",
    "import numpy as np\n",
    "import matplotlib.pyplot as plt\n",
    "\n",
    "def line_graph(x, y, x_title, y_title):\n",
    "    \"\"\"\n",
    "    Draw line graph with x and y values\n",
    "    :param x:\n",
    "    :param y:\n",
    "    :param x_title:\n",
    "    :param y_title:\n",
    "    :return:\n",
    "    \"\"\"\n",
    "    plt.plot(x, y)\n",
    "    plt.xlabel(x_title)\n",
    "    plt.ylabel(y_title)\n",
    "    plt.show()\n",
    " \n",
    " \n",
    "graph_x = range(0, 21)\n",
    "graph_y = sigmoid(graph_x)\n",
    " \n",
    "print(\"Graph X readings: {}\".format(graph_x))\n",
    "print(\"Graph Y readings: {}\".format(graph_y))\n",
    " \n",
    "line_graph(graph_x, graph_y, \"Inputs\", \"Sigmoid Scores\")"
   ]
  },
  {
   "cell_type": "markdown",
   "metadata": {},
   "source": [
    "* Creating a graph_x list which contains the numbers in the range of 0 to 21.\n",
    "* Next, in the graph_y list, we are storing the calculated sigmoid scores for the given graph_x inputs.\n",
    "* Calling the line_graph function, which takes the x, y, and titles of the graph to create the line graph."
   ]
  },
  {
   "cell_type": "code",
   "execution_count": 11,
   "metadata": {},
   "outputs": [
    {
     "name": "stdout",
     "output_type": "stream",
     "text": [
      "Softmax Function Output :: [0.01275478 0.03467109 0.25618664 0.69638749]\n"
     ]
    }
   ],
   "source": [
    "#Softmax FunctionPython\n",
    "# Required Python Package\n",
    "import numpy as np\n",
    "\n",
    "\n",
    "def softmax(inputs):\n",
    "    \"\"\"\n",
    "    Calculate the softmax for the give inputs (array)\n",
    "    :param inputs:\n",
    "    :return:\n",
    "    \"\"\"\n",
    "    return np.exp(inputs) / float(sum(np.exp(inputs)))\n",
    "\n",
    "\n",
    "softmax_inputs = [2, 3, 5, 6]\n",
    "print(\"Softmax Function Output :: {}\".format(softmax(softmax_inputs)))"
   ]
  },
  {
   "cell_type": "code",
   "execution_count": 14,
   "metadata": {},
   "outputs": [
    {
     "name": "stdout",
     "output_type": "stream",
     "text": [
      "Graph X readings: range(0, 21)\n",
      "Graph Y readings: [1.30289758e-09 3.54164282e-09 9.62718331e-09 2.61693975e-08\n",
      " 7.11357976e-08 1.93367146e-07 5.25626399e-07 1.42880069e-06\n",
      " 3.88388295e-06 1.05574884e-05 2.86982290e-05 7.80098744e-05\n",
      " 2.12052824e-04 5.76419338e-04 1.56687021e-03 4.25919483e-03\n",
      " 1.15776919e-02 3.14714295e-02 8.55482149e-02 2.32544158e-01\n",
      " 6.32120559e-01]\n"
     ]
    },
    {
     "data": {
      "image/png": "[encoded data removed]",
      "text/plain": [
       "<Figure size 432x288 with 1 Axes>"
      ]
     },
     "metadata": {
      "needs_background": "light"
     },
     "output_type": "display_data"
    }
   ],
   "source": [
    "\n",
    "# Required Python Packages\n",
    "import numpy as np\n",
    "import matplotlib.pyplot as plt\n",
    " \n",
    "def line_graph(x, y, x_title, y_title):\n",
    "    \"\"\"\n",
    "    Draw line graph with x and y values\n",
    "    :param x:\n",
    "    :param y:\n",
    "    :param x_title:\n",
    "    :param y_title:\n",
    "    :return:\n",
    "    \"\"\"\n",
    "    plt.plot(x, y)\n",
    "    plt.xlabel(x_title)\n",
    "    plt.ylabel(y_title)\n",
    "    plt.show()\n",
    " \n",
    " duvidas quanto ao uso do \n",
    "graph_x = range(0, 21<canvas id=\"myChart\" width=\"400\" height=\"400\"></canvas>\n",
    "<script>\n",
    "var ctx = document.getElementById('myChart').getContext('2d');\n",
    "var myChart = new Chart(ctx, {\n",
    "    type: 'bar',\n",
    "    data: {\n",
    "        labels: ['Red', 'Blue', 'Yellow', 'Green', 'Purple', 'Orange'],\n",
    "        datasets: [{\n",
    "            label: '# of Votes',\n",
    "            data: [12, 19, 3, 5, 2, 3],\n",
    "            backgroundColor: [\n",
    "                'rgba(255, 99, 132, 0.2)',\n",
    "                'rgba(54, 162, 235, 0.2)',\n",
    "                'rgba(255, 206, 86, 0.2)',\n",
    "                'rgba(75, 192, 192, 0.2)',\n",
    "                'rgba(153, 102, 255, 0.2)',\n",
    "                'rgba(255, 159, 64, 0.2)'\n",
    "            ],\n",
    "            borderColor: [\n",
    "                'rgba(255, 99, 132, 1)',\n",
    "                'rgba(54, 162, 235, 1)',\n",
    "                'rgba(255, 206, 86, 1)',\n",
    "                'rgba(75, 192, 192, 1)',\n",
    "                'rgba(153, 102, 255, 1)',\n",
    "                'rgba(255, 159, 64, 1)'\n",
    "            ],\n",
    "            borderWidth: 1\n",
    "        }]\n",
    "    },\n",
    "    options: {\n",
    "        scales: {\n",
    "            yAxes: [{\n",
    "                ticks: {\n",
    "                    beginAtZero: true\n",
    "                }\n",
    "            }]\n",
    "        }\n",
    "    }\n",
    "});\n",
    "</script>)\n",
    "graph_y = softmax(graph_x)\n",
    " \n",
    "print(\"Graph X readings: {}\".format(graph_x))\n",
    "print(\"Graph Y readings: {}\".format(graph_y))\n",
    " \n",
    "line_graph(graph_x, graph_y, \"Inputs\", \"Softmax Scores\")"
   ]
  },
  {
   "cell_type": "code",
   "execution_count": null,
   "metadata": {},
   "outputs": [],
   "source": []
  }
 ],
 "metadata": {
  "kernelspec": {
   "display_name": "Python 3",
   "language": "python",
   "name": "python3"
  },
  "language_info": {
   "codemirror_mode": {
    "name": "ipython",
    "version": 3
   },
   "file_extension": ".py",
   "mimetype": "text/x-python",
   "name": "python",
   "nbconvert_exporter": "python",
   "pygments_lexer": "ipython3",
   "version": "3.7.2"
  }
 },
 "nbformat": 4,
 "nbformat_minor": 4
}
