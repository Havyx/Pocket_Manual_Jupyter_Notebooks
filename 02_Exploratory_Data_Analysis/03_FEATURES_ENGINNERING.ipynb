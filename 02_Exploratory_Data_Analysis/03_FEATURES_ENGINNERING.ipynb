{
 "cells": [
  {
   "cell_type": "code",
   "execution_count": null,
   "metadata": {},
   "outputs": [],
   "source": [
    "import pandas as pd\n",
    "import numpy as np\n",
    "from sklearn import preprocessing"
   ]
  },
  {
   "cell_type": "code",
   "execution_count": null,
   "metadata": {},
   "outputs": [],
   "source": [
    "!dir"
   ]
  },
  {
   "cell_type": "code",
   "execution_count": null,
   "metadata": {},
   "outputs": [],
   "source": [
    "df = pd.read_csv('df_automacao.csv', sep=';')\n",
    "df.shape"
   ]
  },
  {
   "cell_type": "code",
   "execution_count": null,
   "metadata": {},
   "outputs": [],
   "source": [
    "alunos = df.Nome_Aluno"
   ]
  },
  {
   "cell_type": "code",
   "execution_count": null,
   "metadata": {},
   "outputs": [],
   "source": [
    "df_completo = pd.read_csv('dataframe_completo.csv', sep=';')"
   ]
  },
  {
   "cell_type": "code",
   "execution_count": null,
   "metadata": {},
   "outputs": [],
   "source": [
    "df_completo.loc[df_completo.Nome_Aluno == \"Abel Giachini Frare\"].Total_de_Faltas.sum()"
   ]
  },
  {
   "cell_type": "code",
   "execution_count": null,
   "metadata": {},
   "outputs": [],
   "source": [
    "subset = df_completo[['Nome_Aluno', 'Total_de_Faltas']]"
   ]
  },
  {
   "cell_type": "code",
   "execution_count": null,
   "metadata": {},
   "outputs": [],
   "source": [
    "datagrouped = subset.groupby(['Nome_Aluno']).agg(Faltas=(\"Total_de_Faltas\",\"sum\"))"
   ]
  },
  {
   "cell_type": "code",
   "execution_count": null,
   "metadata": {},
   "outputs": [],
   "source": [
    "datagrouped.reset_index(inplace=True)"
   ]
  },
  {
   "cell_type": "code",
   "execution_count": null,
   "metadata": {},
   "outputs": [],
   "source": [
    "mapper = dict(zip(datagrouped.Nome_Aluno, datagrouped.Faltas))\n",
    "df[\"Total_de_Faltas\"] = df.loc[:,\"Total_de_Faltas\"] = df.Nome_Aluno.map(mapper)"
   ]
  },
  {
   "cell_type": "code",
   "execution_count": null,
   "metadata": {},
   "outputs": [],
   "source": [
    "alunos = df.Nome_Aluno.unique()"
   ]
  },
  {
   "cell_type": "code",
   "execution_count": null,
   "metadata": {},
   "outputs": [],
   "source": [
    "x = df[['Idade', 'FdC_Media_Final', 'FdE_Media_Final',\n",
    "       'FdM_Media_Final', 'ADA_Media_Final', 'PdS_Media_Final','Total_de_Faltas']] #returns a numpy array\n",
    "\n",
    "min_max_scaler = preprocessing.MinMaxScaler()\n",
    "x_scaled = min_max_scaler.fit_transform(x)\n",
    "x_scaled = pd.DataFrame(x_scaled, columns=['Idade', 'FdC_Media_Final', 'FdE_Media_Final',\n",
    "       'FdM_Media_Final', 'ADA_Media_Final', 'PdS_Media_Final','Total_de_Faltas'])\n",
    "\n",
    "df.update(x_scaled)\n"
   ]
  },
  {
   "cell_type": "code",
   "execution_count": null,
   "metadata": {},
   "outputs": [],
   "source": [
    "df_f = df[['Nome_Aluno', 'Idade', 'FdC_Media_Final', 'FdE_Media_Final',\n",
    "       'FdM_Media_Final', 'ADA_Media_Final',\n",
    "       'Total_de_Faltas','PdS_Media_Final',\n",
    "       'Comp_Financeiro', 'Raca__Amarela', 'Raca__Branca',\n",
    "       'Raca__Não informado', 'Raca__Parda', 'Raca__Preta',\n",
    "       'Nacionalidade__Brasileira', 'Nacionalidade__Paraguaia',\n",
    "       'Grau__Educação superior completo',\n",
    "       'Grau__Educação superior incompleto', 'Grau__Ensino médio completo',\n",
    "       'Grau__Ensino médio incompleto', 'Grau__Pós Grad. completo',\n",
    "       'Sexo__Feminino', 'Sexo__Masculino', 'Profissao__Secretário',\n",
    "       'Profissao__naoinformado',\n",
    "       'Deficiencias__Deficiência Física (Amputação)',\n",
    "       'Deficiencias__naoapresenta',\n",
    "       'Condicao__Pago por Pessoa Fisica ou Empresa', 'Label']].copy()"
   ]
  },
  {
   "cell_type": "code",
   "execution_count": null,
   "metadata": {},
   "outputs": [],
   "source": [
    "df_f.to_csv('dataframe_automacao_final_tf.csv', sep=';')"
   ]
  }
 ],
 "metadata": {
  "kernelspec": {
   "display_name": "tf_gpu",
   "language": "python",
   "name": "tf_gpu"
  },
  "language_info": {
   "codemirror_mode": {
    "name": "ipython",
    "version": 3
   },
   "file_extension": ".py",
   "mimetype": "text/x-python",
   "name": "python",
   "nbconvert_exporter": "python",
   "pygments_lexer": "ipython3",
   "version": "3.7.7"
  }
 },
 "nbformat": 4,
 "nbformat_minor": 4
}
