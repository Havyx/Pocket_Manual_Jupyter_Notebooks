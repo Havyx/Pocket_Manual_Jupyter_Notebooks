{
 "cells": [
  {
   "cell_type": "markdown",
   "metadata": {},
   "source": [
    "### EXPLORAÇÃO DE DADOS - GE - Cursos tecnicos"
   ]
  },
  {
   "cell_type": "code",
   "execution_count": null,
   "metadata": {},
   "outputs": [],
   "source": [
    "!dir"
   ]
  },
  {
   "cell_type": "code",
   "execution_count": null,
   "metadata": {},
   "outputs": [],
   "source": [
    "import pandas as pd\n",
    "import numpy as np\n",
    "import matplotlib.pyplot as plt"
   ]
  },
  {
   "cell_type": "code",
   "execution_count": null,
   "metadata": {},
   "outputs": [],
   "source": [
    "df =  pd.read_csv(\"df_2016_ate_2019.csv\", encoding='utf8',  error_bad_lines=False, sep=\";\")"
   ]
  },
  {
   "cell_type": "code",
   "execution_count": null,
   "metadata": {},
   "outputs": [],
   "source": [
    "colunas_ = colunas.map(lambda x: x.replace(\" \", \"_\"))\n",
    "colunas_ = colunas_.map(lambda x: x.replace(\"ó\", \"o\"))\n",
    "colunas_ = colunas_.map(lambda x: x.replace(\"Á\", \"A\"))\n",
    "colunas_ = colunas_.map(lambda x: x.replace(\"é\", \"e\"))\n",
    "colunas_ = colunas_.map(lambda x: x.replace(\"ó\", \"o\"))\n",
    "colunas_ = colunas_.map(lambda x: x.replace(\"í\", \"i\"))\n",
    "colunas_ = colunas_.map(lambda x: x.replace(\"ã\", \"a\"))\n",
    "colunas_ = colunas_.map(lambda x: x.replace(\"á\", \"a\"))\n",
    "colunas_ = colunas_.map(lambda x: x.replace(\"ç\", \"c\"))\n",
    "colunas_ = colunas_.map(lambda x: x.replace(\".\", \"\"))"
   ]
  },
  {
   "cell_type": "code",
   "execution_count": null,
   "metadata": {},
   "outputs": [],
   "source": [
    "df.columns = colunas_"
   ]
  },
  {
   "cell_type": "code",
   "execution_count": null,
   "metadata": {},
   "outputs": [],
   "source": [
    " for curso in df.Nome_Curso.unique(): print(curso)"
   ]
  },
  {
   "cell_type": "code",
   "execution_count": null,
   "metadata": {},
   "outputs": [],
   "source": [
    "df_automacao = df.loc[(df.Nome_Curso == \"Técnico em Automação Industrial\")]"
   ]
  },
  {
   "cell_type": "code",
   "execution_count": null,
   "metadata": {},
   "outputs": [],
   "source": [
    "len(df_automacao.columns)"
   ]
  },
  {
   "cell_type": "code",
   "execution_count": null,
   "metadata": {},
   "outputs": [],
   "source": [
    "for i, col in enumerate(df_automacao.columns): print(col, i)"
   ]
  },
  {
   "cell_type": "markdown",
   "metadata": {},
   "source": [
    "### Selecionar todas as linhas de 20  em 20 colunas"
   ]
  },
  {
   "cell_type": "code",
   "execution_count": null,
   "metadata": {},
   "outputs": [],
   "source": [
    "df_automacao_01 = df_automacao.iloc[:, 0:20]\n",
    "df_automacao_02 = df_automacao.iloc[:, 20:40]\n",
    "df_automacao_03 = df_automacao.iloc[:, 40:60]\n",
    "df_automacao_04 = df_automacao.iloc[:, 60:80]\n",
    "df_automacao_05 = df_automacao.iloc[:, 80:100]\n",
    "df_automacao_06= df_automacao.iloc[:, 100:]"
   ]
  },
  {
   "cell_type": "markdown",
   "metadata": {},
   "source": [
    "### Selecionando dados para proxima fase"
   ]
  },
  {
   "cell_type": "markdown",
   "metadata": {},
   "source": [
    "##### PRIMEIRO DATAFRAME SELECIONADO"
   ]
  },
  {
   "cell_type": "code",
   "execution_count": null,
   "metadata": {},
   "outputs": [],
   "source": [
    "dataframe_01 = df_automacao_01[['Periodo_Letivo','Matriz_Aplicada', 'Cod_Turma', 'Nome_Turma']].copy()"
   ]
  },
  {
   "cell_type": "code",
   "execution_count": null,
   "metadata": {},
   "outputs": [],
   "source": [
    "dataframe_01.isnull().sum()"
   ]
  },
  {
   "cell_type": "code",
   "execution_count": null,
   "metadata": {},
   "outputs": [],
   "source": [
    "dataframe_01.info()"
   ]
  },
  {
   "cell_type": "markdown",
   "metadata": {},
   "source": [
    "----------------------------"
   ]
  },
  {
   "cell_type": "markdown",
   "metadata": {},
   "source": [
    "#### SEGUNDO DATAFRAME SELECIONADO"
   ]
  },
  {
   "cell_type": "code",
   "execution_count": null,
   "metadata": {},
   "outputs": [],
   "source": [
    "dataframe_02 = df_automacao_02[['Data_Inicio_Turma', 'Nome_Aluno','Data_Fim_Turma', 'Raca', 'Idade', 'Nacionalidade', 'Sexo', 'Nome_Aluno', 'Cod_Pessoa']].copy()"
   ]
  },
  {
   "cell_type": "code",
   "execution_count": null,
   "metadata": {},
   "outputs": [],
   "source": [
    "dataframe_02.Data_Fim_Turma = pd.to_datetime(dataframe_02.Data_Fim_Turma)\n",
    "dataframe_02.Data_Inicio_Turma = pd.to_datetime(dataframe_02.Data_Inicio_Turma)"
   ]
  },
  {
   "cell_type": "code",
   "execution_count": null,
   "metadata": {},
   "outputs": [],
   "source": [
    "dataframe_02.Raca = dataframe_02.Raca.replace(np.nan, 'Não informado')\n",
    "dataframe_02.Raca = dataframe_02.Raca.replace('Não declarado', 'Não informado')"
   ]
  },
  {
   "cell_type": "code",
   "execution_count": null,
   "metadata": {},
   "outputs": [],
   "source": [
    "dataframe_02.isnull().sum()"
   ]
  },
  {
   "cell_type": "code",
   "execution_count": null,
   "metadata": {},
   "outputs": [],
   "source": [
    "dataframe_02.info()"
   ]
  },
  {
   "cell_type": "markdown",
   "metadata": {},
   "source": [
    "----------------------------------------------"
   ]
  },
  {
   "cell_type": "markdown",
   "metadata": {},
   "source": [
    "### Terceiro Dataframe Selecionado"
   ]
  },
  {
   "cell_type": "code",
   "execution_count": null,
   "metadata": {},
   "outputs": [],
   "source": [
    "dataframe_03 = df_automacao_03[['Cidade', 'Cidade', 'Grau_Instrucao', 'Profissao', 'Deficiências', 'Tipo_Aluno']].copy()"
   ]
  },
  {
   "cell_type": "code",
   "execution_count": null,
   "metadata": {},
   "outputs": [],
   "source": [
    "dataframe_03.Profissao = dataframe_03.Profissao.replace(np.nan, \"naoinformado\")\n",
    "dataframe_03[\"Deficiências\"] = dataframe_03[\"Deficiências\"].replace(np.nan, \"naoapresenta\")"
   ]
  },
  {
   "cell_type": "code",
   "execution_count": null,
   "metadata": {},
   "outputs": [],
   "source": [
    "dataframe_03.Tipo_Aluno.unique()"
   ]
  },
  {
   "cell_type": "code",
   "execution_count": null,
   "metadata": {},
   "outputs": [],
   "source": [
    "dataframe_03.Tipo_Aluno = dataframe_03.Tipo_Aluno.replace(np.nan, 'Desconhecido')"
   ]
  },
  {
   "cell_type": "code",
   "execution_count": null,
   "metadata": {},
   "outputs": [],
   "source": [
    "dataframe_03.isnull().sum()"
   ]
  },
  {
   "cell_type": "code",
   "execution_count": null,
   "metadata": {},
   "outputs": [],
   "source": [
    "dataframe_03.info()"
   ]
  },
  {
   "cell_type": "markdown",
   "metadata": {},
   "source": [
    "### Quarto Dataframe Selecionado"
   ]
  },
  {
   "cell_type": "code",
   "execution_count": null,
   "metadata": {},
   "outputs": [],
   "source": [
    "dataframe_04 =  df_automacao_04[['Periodo_Matricula', 'Status_Matricula', 'Resultado_Final', 'Resultado_Hab_Aluno', 'Data_Matricula', 'Data_Criacao_Matricula',\n",
    "       'Data_Prevista_Saida','Disciplina', 'Data_Inicio_Disciplina',\n",
    "       'Data_Fim_Disciplina', 'Media_Av_1', 'Media_Av_2', 'Recuperacao',\n",
    "       'Media_Final', 'Total_de_Faltas']].copy()"
   ]
  },
  {
   "cell_type": "code",
   "execution_count": null,
   "metadata": {},
   "outputs": [],
   "source": [
    "dataframe_04.drop('Resultado_Final', axis=1, inplace=True)"
   ]
  },
  {
   "cell_type": "code",
   "execution_count": null,
   "metadata": {},
   "outputs": [],
   "source": [
    "dataframe_04.drop('Recuperacao', axis=1, inplace=True)"
   ]
  },
  {
   "cell_type": "code",
   "execution_count": null,
   "metadata": {},
   "outputs": [],
   "source": [
    "dataframe_04.Total_de_Faltas = dataframe_04.Total_de_Faltas.replace(np.nan, 0.0)"
   ]
  },
  {
   "cell_type": "code",
   "execution_count": null,
   "metadata": {},
   "outputs": [],
   "source": [
    "dataframe_04.Media_Av_1 = dataframe_04.Media_Av_1.replace(np.nan, 0.0)"
   ]
  },
  {
   "cell_type": "code",
   "execution_count": null,
   "metadata": {},
   "outputs": [],
   "source": [
    "dataframe_04.Media_Av_2 = dataframe_04.Media_Av_2.replace(np.nan, 0.0)"
   ]
  },
  {
   "cell_type": "code",
   "execution_count": null,
   "metadata": {},
   "outputs": [],
   "source": [
    "dataframe_04.Media_Final = dataframe_04.Media_Final.replace(np.nan, 0.0)"
   ]
  },
  {
   "cell_type": "code",
   "execution_count": null,
   "metadata": {},
   "outputs": [],
   "source": [
    "dataframe_04.isna().sum()"
   ]
  },
  {
   "cell_type": "code",
   "execution_count": null,
   "metadata": {},
   "outputs": [],
   "source": [
    "#dataframe_04.dropna(inplace=True)"
   ]
  },
  {
   "cell_type": "code",
   "execution_count": null,
   "metadata": {},
   "outputs": [],
   "source": [
    "dataframe_04.Data_Prevista_Saida = pd.to_datetime(dataframe_04.Data_Prevista_Saida)"
   ]
  },
  {
   "cell_type": "code",
   "execution_count": null,
   "metadata": {},
   "outputs": [],
   "source": [
    "dataframe_04.info()"
   ]
  },
  {
   "cell_type": "markdown",
   "metadata": {},
   "source": [
    "--------------------------"
   ]
  },
  {
   "cell_type": "markdown",
   "metadata": {},
   "source": [
    "### Quinto Dataframe Selecionado"
   ]
  },
  {
   "cell_type": "code",
   "execution_count": null,
   "metadata": {},
   "outputs": [],
   "source": [
    "dataframe_05 = df_automacao_05[['Condicao_Aluno', 'Resp_Financeiro']].copy()"
   ]
  },
  {
   "cell_type": "code",
   "execution_count": null,
   "metadata": {},
   "outputs": [],
   "source": [
    "dataframe_05.Condicao_Aluno = dataframe_05.Condicao_Aluno.replace(np.nan, 'Nao_Informado')\n",
    "dataframe_05.Resp_Financeiro = dataframe_05.Resp_Financeiro.replace(np.nan, 'Nao_Informado')"
   ]
  },
  {
   "cell_type": "code",
   "execution_count": null,
   "metadata": {},
   "outputs": [],
   "source": [
    "dataframe_05.info()"
   ]
  },
  {
   "cell_type": "markdown",
   "metadata": {},
   "source": [
    "-----------------------------"
   ]
  },
  {
   "cell_type": "markdown",
   "metadata": {},
   "source": [
    "### Inicialmente nenhum dado selecionado do df_automacao_06"
   ]
  },
  {
   "cell_type": "markdown",
   "metadata": {},
   "source": [
    "# COCATENANDO "
   ]
  },
  {
   "cell_type": "code",
   "execution_count": null,
   "metadata": {},
   "outputs": [],
   "source": [
    "dataframe_final = pd.concat([dataframe_01, dataframe_02, dataframe_03, dataframe_04, dataframe_05], axis=1)"
   ]
  },
  {
   "cell_type": "markdown",
   "metadata": {},
   "source": [
    "-------------------------------------\n",
    "---------------------------------"
   ]
  },
  {
   "cell_type": "code",
   "execution_count": null,
   "metadata": {},
   "outputs": [],
   "source": [
    "dataframe_final.Cod_Pessoa.nunique()"
   ]
  },
  {
   "cell_type": "code",
   "execution_count": null,
   "metadata": {},
   "outputs": [],
   "source": [
    "dataframe_final.Cod_Pessoa.loc[dataframe_final.Periodo_Letivo == '2017/1'].nunique()"
   ]
  },
  {
   "cell_type": "code",
   "execution_count": null,
   "metadata": {},
   "outputs": [],
   "source": [
    "alunos_2017_1 = dataframe_final.Cod_Pessoa.loc[dataframe_final.Periodo_Letivo == '2017/1']"
   ]
  },
  {
   "cell_type": "code",
   "execution_count": null,
   "metadata": {},
   "outputs": [],
   "source": [
    "dataframe_final.loc[dataframe_final.Cod_Pessoa == 814280]"
   ]
  },
  {
   "cell_type": "code",
   "execution_count": null,
   "metadata": {},
   "outputs": [],
   "source": [
    "lista_de_notas = ['FdC_Media_Final', 'FdE_Media_Final',\n",
    "       'FdM_Media_Final', 'ADA_Media_Final',\n",
    "       'PdS_Media_Final']"
   ]
  },
  {
   "cell_type": "markdown",
   "metadata": {},
   "source": [
    "### As medias vao funcionar para qual semestre ???  \n",
    "POC 3 Semestre  Notas dos alunos ate o 2 semestre e depois novamente para o 3.\n",
    "\n",
    "Se eu treinar um algoritmo com as notas de todos os semestres. Eu teria que fornecer na hora da predicao usuarios que tb fizeram todos os semestres do algoritmo de treino. O que nao faz sentido."
   ]
  },
  {
   "cell_type": "code",
   "execution_count": null,
   "metadata": {},
   "outputs": [],
   "source": [
    "for id_aluno in alunos_2017_1:\n",
    "    dataframe_final.loc[(dataframe_final.Cod_Pessoa==id_aluno) ,'FdC_Media_Final'] = dataframe_final.loc[(dataframe_final.Disciplina == 'Fundamentos da Comunicação') & (dataframe_final.Cod_Pessoa == id_aluno)].Media_Final\n",
    "    dataframe_final.loc[(dataframe_final.Cod_Pessoa==id_aluno),'FdE_Media_Final'] = dataframe_final.loc[(dataframe_final.Disciplina == 'Fundamentos da Eletrotécnica') & (dataframe_final.Cod_Pessoa == id_aluno)].Media_Final\n",
    "    dataframe_final.loc[(dataframe_final.Cod_Pessoa==id_aluno),'FdM_Media_Final'] = dataframe_final.loc[(dataframe_final.Disciplina == 'Fundamentos da Mecânica') & (dataframe_final.Cod_Pessoa == id_aluno)].Media_Final\n",
    "    dataframe_final.loc[(dataframe_final.Cod_Pessoa==id_aluno),'ADA_Media_Final'] = dataframe_final.loc[(dataframe_final.Disciplina == 'Acionamento de Dispositivos Atuadores') & (dataframe_final.Cod_Pessoa == id_aluno)].Media_Final\n",
    "    dataframe_final.loc[(dataframe_final.Cod_Pessoa==id_aluno),'PdS_Media_Final'] = dataframe_final.loc[(dataframe_final.Disciplina == 'Processamento de Sinais') & (dataframe_final.Cod_Pessoa == id_aluno)].Media_Final\n",
    "    df_sample = dataframe_final.loc[dataframe_final.Cod_Pessoa==id_aluno].copy()\n",
    "    df_sample.FdC_Media_Final = df_sample.FdC_Media_Final.sum()\n",
    "    df_sample.FdE_Media_Final = df_sample.FdE_Media_Final.sum()\n",
    "    df_sample.FdM_Media_Final = df_sample.FdM_Media_Final.sum()\n",
    "    df_sample.ADA_Media_Final = df_sample.ADA_Media_Final.sum()\n",
    "    df_sample.PdS_Media_Final = df_sample.PdS_Media_Final.sum()\n",
    "    dataframe_final.update(df_sample)"
   ]
  },
  {
   "cell_type": "code",
   "execution_count": null,
   "metadata": {},
   "outputs": [],
   "source": [
    "dataframe_final.dropna(inplace=True)"
   ]
  },
  {
   "cell_type": "code",
   "execution_count": null,
   "metadata": {},
   "outputs": [],
   "source": [
    "dataframe_final.drop('Matriz_Aplicada', inplace=True, axis=1)"
   ]
  },
  {
   "cell_type": "code",
   "execution_count": null,
   "metadata": {},
   "outputs": [],
   "source": [
    "dataframe_final.drop(['Periodo_Letivo','Cod_Turma', 'Nome_Turma', 'Data_Inicio_Turma' , 'Data_Fim_Turma'], inplace=True, axis=1)"
   ]
  },
  {
   "cell_type": "code",
   "execution_count": null,
   "metadata": {},
   "outputs": [],
   "source": [
    "dataframe_final.drop(['Cod_Pessoa', 'Data_Criacao_Matricula', 'Data_Prevista_Saida'], inplace=True, axis=1)"
   ]
  },
  {
   "cell_type": "code",
   "execution_count": null,
   "metadata": {},
   "outputs": [],
   "source": [
    "dataframe_final.drop(['Cidade'], inplace=True, axis=1)"
   ]
  },
  {
   "cell_type": "code",
   "execution_count": null,
   "metadata": {},
   "outputs": [],
   "source": [
    "dataframe_final.drop(['Data_Matricula'], inplace=True, axis=1)"
   ]
  },
  {
   "cell_type": "code",
   "execution_count": null,
   "metadata": {},
   "outputs": [],
   "source": [
    "pd.get_dummies(dataframe_final.Raca, prefix='Raca')"
   ]
  },
  {
   "cell_type": "code",
   "execution_count": null,
   "metadata": {},
   "outputs": [],
   "source": [
    "dataframe_final.iloc[:, 0:20]"
   ]
  },
  {
   "cell_type": "code",
   "execution_count": null,
   "metadata": {},
   "outputs": [],
   "source": [
    "dataframe_final.iloc[:, 20:]"
   ]
  },
  {
   "cell_type": "code",
   "execution_count": null,
   "metadata": {},
   "outputs": [],
   "source": [
    "dataframe_final.to_csv('dataframe_completo.csv', sep=';')"
   ]
  },
  {
   "cell_type": "markdown",
   "metadata": {},
   "source": [
    "---------------------------------------------------"
   ]
  }
 ],
 "metadata": {
  "kernelspec": {
   "display_name": "tf_gpu",
   "language": "python",
   "name": "tf_gpu"
  },
  "language_info": {
   "codemirror_mode": {
    "name": "ipython",
    "version": 3
   },
   "file_extension": ".py",
   "mimetype": "text/x-python",
   "name": "python",
   "nbconvert_exporter": "python",
   "pygments_lexer": "ipython3",
   "version": "3.7.7"
  }
 },
 "nbformat": 4,
 "nbformat_minor": 4
}
