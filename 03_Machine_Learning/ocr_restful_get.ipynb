{
 "cells": [
  {
   "cell_type": "code",
   "execution_count": 1,
   "metadata": {
    "scrolled": true
   },
   "outputs": [
    {
     "name": "stdout",
     "output_type": "stream",
     "text": [
      "<Response [200]>\n",
      "[{'resposta': {'data': ' \\n    \\n    \\n  \\n\\neta NESTE EJALo\\nECC\\nmuitas outras\\nconquistas\\nto LES Arc EÃS\\npessoais [of lto\\n\\ncomemorar!\\n\\n \\n\\n \\n\\x0c', 'fieldname': 'image', 'originalname': 'image.jpg', 'encoding': '7bit', 'mimetype': 'image/jpeg', 'destination': 'images', 'filename': 'image_1581611284320', 'path': 'images/image_1581611284320', 'size': 231028}}, {'resposta': {'data': ' \\n \\n  \\n  \\n\\nPALAVRA DO PRESIDENTE\\n\\nO Sistema Fiep existe por causa da indústria. É em razão dela e para seu\\nbenefício que nossas casas — Heep, Sesi, Senal e IEL - devem sempre trabalhar.\\nPartindo dessa diretriz, a nova diretoria que, em outubro de 2019, assumiu para\\num mandato de quatro anos à frente da instituição, coloca como prioridade\\nabsoluta o foco na evolução do setor industrial paranaense.\\n\\nNos últimos anos, o Sistema Fiep realizou importantes investimentos para\\nampliar e aprimorar sua estrutura de atendimento à indústria em suas áreas\\nde atuação: representatividade, educação e capacitação, segurança e saúde\\nno trabalho, inovação e tecnologia. Com isso, e com a qualidade de seu corpo\\ntécnico, tem totais condições de prestar apoio para que a indústria paranaense\\nenfrente os desafios que se colocam a sua frente.\\n\\nVamos, a partir de agora, aprimorar cada vez mais nossos serviços e fazer com\\nque cheguem ao conhecimento das indústrias. Valorizar o empreendedorismo\\ne a força de nossos industriais, atendendo suas necessidades de maneira mais\\neficiente, é o caminho para que o Sistema Fiep continue sendo relevante para\\na indústria.\\n\\nNesse processo, colocamos como prioridade também o fortalecimento de\\nnossos sindicatos industriais filiados. Por sua representatividade setorial e\\n\\ngeográfica, eles são o elo mais próximo das indústrias e precisam ter mais\\n\\nn verdadeiro vetor de desenvolvimento econômico e\\nara nosso país.\\n\\n  \\n\\x0c', 'fieldname': 'image', 'originalname': 'image.jpg', 'encoding': '7bit', 'mimetype': 'image/jpeg', 'destination': 'images', 'filename': 'image_1581612086364', 'path': 'images/image_1581612086364', 'size': 259046}}]\n"
     ]
    }
   ],
   "source": [
    "URL = \"https://34f6984e.ngrok.io\"\n",
    "\n",
    "import requests\n",
    "\n",
    "r = requests.get(url = URL) \n",
    "print(r)\n",
    "\n",
    "data = r.json()\n",
    "print(data)"
   ]
  },
  {
   "cell_type": "code",
   "execution_count": 10,
   "metadata": {},
   "outputs": [],
   "source": [
    "res= data[1]\n",
    "res = res['resposta']\n",
    "res = res['data']"
   ]
  },
  {
   "cell_type": "code",
   "execution_count": 11,
   "metadata": {},
   "outputs": [],
   "source": [
    "import re"
   ]
  },
  {
   "cell_type": "code",
   "execution_count": 20,
   "metadata": {},
   "outputs": [
    {
     "data": {
      "text/plain": [
       "'PALAVRA DO PRESIDENTE O Sistema Fiep existe por causa da indústria. É em razão dela e para seu benefício que nossas casas — Heep, Sesi, Senal e IEL - devem sempre trabalhar. Partindo dessa diretriz, a nova diretoria que, em outubro de 2019, assumiu para um mandato de quatro anos à frente da instituição, coloca como prioridade absoluta o foco na evolução do setor industrial paranaense. Nos últimos anos, o Sistema Fiep realizou importantes investimentos para ampliar e aprimorar sua estrutura de atendimento à indústria em suas áreas de atuação: representatividade, educação e capacitação, segurança e saúde no trabalho, inovação e tecnologia. Com isso, e com a qualidade de seu corpo técnico, tem totais condições de prestar apoio para que a indústria paranaense enfrente os desafios que se colocam a sua frente. Vamos, a partir de agora, aprimorar cada vez mais nossos serviços e fazer com que cheguem ao conhecimento das indústrias. Valorizar o empreendedorismo e a força de nossos industriais, atendendo suas necessidades de maneira mais eficiente, é o caminho para que o Sistema Fiep continue sendo relevante para a indústria. Nesse processo, colocamos como prioridade também o fortalecimento de nossos sindicatos industriais filiados. Por sua representatividade setorial e geográfica, eles são o elo mais próximo das indústrias e precisam ter mais n verdadeiro vetor de desenvolvimento econômico e ara nosso país. \\x0c'"
      ]
     },
     "execution_count": 20,
     "metadata": {},
     "output_type": "execute_result"
    }
   ],
   "source": [
    "lista_de_palavras = re.findall(r'[^\\n ]+', res)\n",
    "texto_final = ' '.join(lista_de_palavras)\n",
    "texto_final"
   ]
  },
  {
   "cell_type": "code",
   "execution_count": 19,
   "metadata": {},
   "outputs": [],
   "source": [
    "import spacy\n",
    "nlp = spacy.load('pt')"
   ]
  },
  {
   "cell_type": "code",
   "execution_count": 21,
   "metadata": {},
   "outputs": [],
   "source": [
    "doc = nlp(texto_final)"
   ]
  },
  {
   "cell_type": "code",
   "execution_count": 27,
   "metadata": {},
   "outputs": [
    {
     "name": "stdout",
     "output_type": "stream",
     "text": [
      "PALAVRA PROPN ROOT False\n",
      "DO PROPN ROOT True\n",
      "PRESIDENTE VERB flat:name False\n",
      "O DET det False\n",
      "Sistema PROPN nsubj True\n",
      "Fiep PROPN flat:name False\n",
      "existe VERB ROOT False\n",
      "por ADP case True\n",
      "causa NOUN obl False\n",
      "da ADP case True\n",
      "indústria NOUN nmod False\n",
      ". PUNCT punct False\n",
      "É ADV cop True\n",
      "em ADP case True\n",
      "razão NOUN ROOT False\n",
      "d ADP case False\n",
      "ela PRON nmod True\n",
      "e CCONJ cc False\n",
      "para ADP case True\n",
      "seu DET det True\n",
      "benefício NOUN conj False\n",
      "que PRON obj True\n",
      "nossas DET det True\n",
      "casas NOUN nsubj False\n",
      "— PROPN punct False\n",
      "Heep PROPN appos False\n",
      ", PUNCT punct False\n",
      "Sesi PROPN conj False\n",
      ", PUNCT punct False\n",
      "Senal ADJ conj False\n",
      "e CCONJ cc False\n",
      "IEL PROPN conj False\n",
      "- PUNCT punct False\n",
      "devem AUX aux True\n",
      "sempre ADV advmod True\n",
      "trabalhar VERB acl:relcl False\n",
      ". PUNCT punct False\n",
      "Partindo VERB advcl False\n",
      "d ADP case False\n",
      "essa DET det True\n",
      "diretriz NOUN obl False\n",
      ", PUNCT punct False\n",
      "a DET det False\n",
      "nova ADJ amod True\n",
      "diretoria NOUN nsubj False\n",
      "que PRON nsubj True\n",
      ", PUNCT punct False\n",
      "em ADP case True\n",
      "outubro NOUN obl False\n",
      "de ADP case True\n",
      "2019 NUM nmod False\n",
      ", PUNCT punct False\n",
      "assumiu VERB acl:relcl False\n",
      "para ADP case True\n",
      "um DET det True\n",
      "mandato NOUN obl False\n",
      "de ADP case True\n",
      "quatro NUM nummod True\n",
      "anos SYM nmod False\n",
      "à ADP case True\n",
      "frente NOUN obl False\n",
      "da ADP case True\n",
      "instituição NOUN nmod False\n",
      ", PUNCT punct False\n",
      "coloca VERB ROOT False\n",
      "como ADP case True\n",
      "prioridade NOUN xcomp False\n",
      "absoluta ADJ amod False\n",
      "o DET det False\n",
      "foco PROPN obj False\n",
      "na PROPN appos True\n",
      "evolução NOUN flat:name False\n",
      "do ADP case True\n",
      "setor NOUN nmod False\n",
      "industrial ADJ amod False\n",
      "paranaense ADJ amod False\n",
      ". PUNCT punct False\n",
      "Nos ADP det True\n",
      "últimos ADJ amod False\n",
      "anos SYM obl False\n",
      ", PUNCT punct False\n",
      "o DET det False\n",
      "Sistema PROPN nsubj True\n",
      "Fiep PROPN flat:name False\n",
      "realizou VERB ROOT False\n",
      "importantes ADJ amod False\n",
      "investimentos NOUN obj False\n",
      "para ADP mark True\n",
      "ampliar VERB acl False\n",
      "e CCONJ cc False\n",
      "aprimorar VERB conj False\n",
      "sua DET det True\n",
      "estrutura NOUN obj False\n",
      "de ADP case True\n",
      "atendimento NOUN nmod False\n",
      "à ADP flat:name True\n",
      "indústria NOUN amod False\n",
      "em ADP case True\n",
      "suas DET det True\n",
      "áreas NOUN obl False\n",
      "de ADP case True\n",
      "atuação NOUN nmod False\n",
      ": PUNCT punct False\n",
      "representatividade NOUN appos False\n",
      ", PUNCT punct False\n",
      "educação NOUN conj False\n",
      "e CCONJ cc False\n",
      "capacitação NOUN conj False\n",
      ", PUNCT punct False\n",
      "segurança NOUN conj False\n",
      "e CCONJ cc False\n",
      "saúde NOUN conj False\n",
      "no ADP case True\n",
      "trabalho NOUN ROOT False\n",
      ", PUNCT punct False\n",
      "inovação NOUN conj False\n",
      "e CCONJ cc False\n",
      "tecnologia NOUN conj False\n",
      ". PUNCT punct False\n",
      "Com ADP case True\n",
      "isso PRON obl True\n",
      ", PUNCT punct False\n",
      "e CCONJ cc False\n",
      "com ADP case True\n",
      "a DET det False\n",
      "qualidade NOUN obl False\n",
      "de ADP case True\n",
      "seu DET det True\n",
      "corpo NOUN nmod False\n",
      "técnico ADJ amod False\n",
      ", PUNCT punct False\n",
      "tem VERB ROOT True\n",
      "totais NOUN amod False\n",
      "condições NOUN obj False\n",
      "de ADP mark True\n",
      "prestar VERB acl False\n",
      "apoio NOUN obj True\n",
      "para ADP nmod True\n",
      "que SCONJ fixed True\n",
      "a DET det False\n",
      "indústria NOUN nsubj False\n",
      "paranaense ADJ amod False\n",
      "enfrente ADV advmod False\n",
      "os DET det True\n",
      "desafios SYM obj False\n",
      "que PRON nsubj True\n",
      "se PRON expl True\n",
      "colocam VERB acl:relcl False\n",
      "a DET det False\n",
      "sua DET det True\n",
      "frente NOUN obj False\n",
      ". PUNCT punct False\n",
      "Vamos VERB aux False\n",
      ", PUNCT punct False\n",
      "a ADP case False\n",
      "partir NOUN obl True\n",
      "de ADP case True\n",
      "agora ADV advmod True\n",
      ", PUNCT punct False\n",
      "aprimorar VERB ROOT False\n",
      "cada NOUN det True\n",
      "vez ADP case True\n",
      "mais NOUN nmod True\n",
      "nossos DET det True\n",
      "serviços SYM obj False\n",
      "e CCONJ cc False\n",
      "fazer VERB conj True\n",
      "com ADP mark True\n",
      "que SCONJ mark True\n",
      "cheguem VERB advcl False\n",
      "a ADP case False\n",
      "o DET det False\n",
      "conhecimento NOUN obl False\n",
      "das VERB acl True\n",
      "indústrias ADJ flat:name False\n",
      ". PUNCT punct False\n",
      "Valorizar VERB csubj False\n",
      "o DET det False\n",
      "empreendedorismo NOUN obj False\n",
      "e CCONJ cc False\n",
      "a DET det False\n",
      "força NOUN conj False\n",
      "de ADP case True\n",
      "nossos DET det True\n",
      "industriais SYM nmod False\n",
      ", PUNCT punct False\n",
      "atendendo VERB advcl False\n",
      "suas DET det True\n",
      "necessidades NOUN obj False\n",
      "de ADP case True\n",
      "maneira NOUN nmod False\n",
      "mais ADV advmod True\n",
      "eficiente ADJ amod False\n",
      ", PUNCT punct False\n",
      "é VERB cop True\n",
      "o DET det False\n",
      "caminho NOUN ROOT True\n",
      "para ADP mark True\n",
      "que SCONJ mark True\n",
      "o DET det False\n",
      "Sistema PROPN nsubj True\n",
      "Fiep PROPN flat:name False\n",
      "continue VERB ROOT False\n",
      "sendo VERB cop False\n",
      "relevante ADJ dep False\n",
      "para ADP case True\n",
      "a DET det False\n",
      "indústria NOUN obl False\n",
      ". PUNCT punct False\n",
      "Nesse VERB nsubj True\n",
      "processo NOUN flat:name False\n",
      ", PUNCT punct False\n",
      "colocamos VERB ROOT False\n",
      "como ADP case True\n",
      "prioridade NOUN xcomp False\n",
      "também ADV advmod True\n",
      "o DET det False\n",
      "fortalecimento NOUN obj False\n",
      "de ADP case True\n",
      "nossos DET det True\n",
      "sindicatos SYM nmod False\n",
      "industriais ADJ amod False\n",
      "filiados VERB acl False\n",
      ". PUNCT punct False\n",
      "Por ADP case True\n",
      "sua DET det True\n",
      "representatividade NOUN nmod False\n",
      "setorial ADJ amod False\n",
      "e CCONJ cc False\n",
      "geográfica ADJ conj False\n",
      ", PUNCT punct False\n",
      "eles PRON nsubj True\n",
      "são VERB cop True\n",
      "o DET det False\n",
      "elo NOUN ROOT False\n",
      "mais ADV advmod True\n",
      "próximo ADJ amod True\n",
      "das DET nmod True\n",
      "indústrias ADJ amod False\n",
      "e CCONJ cc False\n",
      "precisam VERB conj False\n",
      "ter VERB xcomp True\n",
      "mais DET advmod True\n",
      "n NOUN obj False\n",
      "verdadeiro ADJ amod False\n",
      "vetor NOUN obj False\n",
      "de ADP case True\n",
      "desenvolvimento NOUN nmod False\n",
      "econômico ADJ amod False\n",
      "e CCONJ cc False\n",
      "ara DET case False\n",
      "nosso DET det True\n",
      "país NOUN obl False\n",
      ". PUNCT punct False\n",
      "\f",
      " SPACE  False\n"
     ]
    }
   ],
   "source": [
    "for token in doc:\n",
    "    print(token.text, token.pos_, token.dep_, token.is_stop)"
   ]
  },
  {
   "cell_type": "code",
   "execution_count": 29,
   "metadata": {},
   "outputs": [
    {
     "name": "stdout",
     "output_type": "stream",
     "text": [
      "PALAVRA\n",
      "DO PRESIDENTE\n",
      "O Sistema Fiep existe por causa da indústria.\n",
      "É em razão dela e para seu benefício que nossas casas — Heep, Sesi, Senal e IEL - devem sempre trabalhar.\n",
      "Partindo dessa diretriz, a nova diretoria que, em outubro de 2019, assumiu para um mandato de quatro anos à frente da instituição, coloca como prioridade absoluta o foco na evolução do setor industrial paranaense.\n",
      "Nos últimos anos, o Sistema Fiep realizou importantes investimentos para ampliar e aprimorar sua estrutura de atendimento à indústria em suas áreas de atuação: representatividade, educação e capacitação, segurança e saúde\n",
      "no trabalho, inovação e tecnologia.\n",
      "Com isso, e com a qualidade de seu corpo técnico, tem totais condições de prestar apoio para que a indústria paranaense enfrente os desafios que se colocam a sua frente.\n",
      "Vamos, a partir de agora, aprimorar cada vez mais nossos serviços e fazer com que cheguem ao conhecimento das indústrias.\n",
      "Valorizar o empreendedorismo e a força de nossos industriais, atendendo suas necessidades de maneira mais eficiente, é o caminho\n",
      "para que o Sistema Fiep continue sendo relevante para a indústria.\n",
      "Nesse processo, colocamos como prioridade também o fortalecimento de nossos sindicatos industriais filiados.\n",
      "Por sua representatividade setorial e geográfica, eles são o elo mais próximo das indústrias e precisam ter mais n verdadeiro vetor de desenvolvimento econômico e ara nosso país. \f",
      "\n"
     ]
    }
   ],
   "source": [
    "for setence in doc.sents:\n",
    "    print(setence)"
   ]
  },
  {
   "cell_type": "code",
   "execution_count": 34,
   "metadata": {},
   "outputs": [
    {
     "data": {
      "text/plain": [
       "True"
      ]
     },
     "execution_count": 34,
     "metadata": {},
     "output_type": "execute_result"
    }
   ],
   "source": [
    "doc[1].is_sent_start"
   ]
  },
  {
   "cell_type": "code",
   "execution_count": 35,
   "metadata": {},
   "outputs": [],
   "source": [
    "doc[2].is_sent_start"
   ]
  },
  {
   "cell_type": "code",
   "execution_count": null,
   "metadata": {},
   "outputs": [],
   "source": []
  }
 ],
 "metadata": {
  "kernelspec": {
   "display_name": "Python 3",
   "language": "python",
   "name": "python3"
  },
  "language_info": {
   "codemirror_mode": {
    "name": "ipython",
    "version": 3
   },
   "file_extension": ".py",
   "mimetype": "text/x-python",
   "name": "python",
   "nbconvert_exporter": "python",
   "pygments_lexer": "ipython3",
   "version": "3.7.2"
  }
 },
 "nbformat": 4,
 "nbformat_minor": 4
}
